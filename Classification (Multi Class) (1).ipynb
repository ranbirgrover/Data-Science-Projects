{
 "cells": [
  {
   "cell_type": "markdown",
   "metadata": {},
   "source": [
    "# License Status Prediction - Multiclass Classification\n",
    "<hr style=\"border:1px solid gray\"> </hr>"
   ]
  },
  {
   "cell_type": "code",
   "execution_count": 1,
   "metadata": {},
   "outputs": [
    {
     "name": "stdout",
     "output_type": "stream",
     "text": [
      "Collecting category_encoders\n",
      "  Using cached category_encoders-2.5.1.post0-py2.py3-none-any.whl (72 kB)\n",
      "Requirement already satisfied: scipy>=1.0.0 in c:\\users\\ranbi\\anaconda3\\lib\\site-packages (from category_encoders) (1.7.3)\n",
      "Requirement already satisfied: patsy>=0.5.1 in c:\\users\\ranbi\\anaconda3\\lib\\site-packages (from category_encoders) (0.5.2)\n",
      "Requirement already satisfied: numpy>=1.14.0 in c:\\users\\ranbi\\anaconda3\\lib\\site-packages (from category_encoders) (1.21.5)\n",
      "Requirement already satisfied: scikit-learn>=0.20.0 in c:\\users\\ranbi\\anaconda3\\lib\\site-packages (from category_encoders) (1.0.2)\n",
      "Requirement already satisfied: statsmodels>=0.9.0 in c:\\users\\ranbi\\anaconda3\\lib\\site-packages (from category_encoders) (0.13.2)\n",
      "Requirement already satisfied: pandas>=1.0.5 in c:\\users\\ranbi\\anaconda3\\lib\\site-packages (from category_encoders) (1.4.2)\n",
      "Requirement already satisfied: pytz>=2020.1 in c:\\users\\ranbi\\anaconda3\\lib\\site-packages (from pandas>=1.0.5->category_encoders) (2021.3)\n",
      "Requirement already satisfied: python-dateutil>=2.8.1 in c:\\users\\ranbi\\anaconda3\\lib\\site-packages (from pandas>=1.0.5->category_encoders) (2.8.2)\n",
      "Requirement already satisfied: six in c:\\users\\ranbi\\anaconda3\\lib\\site-packages (from patsy>=0.5.1->category_encoders) (1.16.0)\n",
      "Requirement already satisfied: threadpoolctl>=2.0.0 in c:\\users\\ranbi\\anaconda3\\lib\\site-packages (from scikit-learn>=0.20.0->category_encoders) (2.2.0)\n",
      "Requirement already satisfied: joblib>=0.11 in c:\\users\\ranbi\\anaconda3\\lib\\site-packages (from scikit-learn>=0.20.0->category_encoders) (1.1.0)\n",
      "Requirement already satisfied: packaging>=21.3 in c:\\users\\ranbi\\anaconda3\\lib\\site-packages (from statsmodels>=0.9.0->category_encoders) (21.3)\n",
      "Requirement already satisfied: pyparsing!=3.0.5,>=2.0.2 in c:\\users\\ranbi\\anaconda3\\lib\\site-packages (from packaging>=21.3->statsmodels>=0.9.0->category_encoders) (3.0.4)\n",
      "Installing collected packages: category-encoders\n",
      "Successfully installed category-encoders-2.5.1.post0\n",
      "Note: you may need to restart the kernel to use updated packages.\n"
     ]
    }
   ],
   "source": [
    "pip install category_encoders\n"
   ]
  },
  {
   "cell_type": "markdown",
   "metadata": {},
   "source": [
    "## Contents.\n",
    "\n",
    "    1. Problem Description\n",
    "    2. Data Exploration\n",
    "    3. Feature Selection\n",
    "    4. KNN Algorithm\n",
    "    5. Naive Bias\n",
    "    5. Logistic Regression\n",
    "    6. Decisoin Tree\n",
    "    \n",
    "    \n",
    "--------------------------------------------------------------------------------------------------------------------------------\n"
   ]
  },
  {
   "cell_type": "markdown",
   "metadata": {},
   "source": [
    "### Problem Description\n",
    "\n",
    "We are given a license dataset which holds various information related the business license , The objective of out problem is to predict license Status for the given business. Lets start with delving deep into the data.\n",
    "________________________________________________________________________________________________________________________________"
   ]
  },
  {
   "cell_type": "code",
   "execution_count": 1,
   "metadata": {},
   "outputs": [],
   "source": [
    "import pandas as pd\n",
    "import numpy as np\n",
    "import matplotlib.pyplot as plt\n",
    "%matplotlib inline\n",
    "import os\n",
    "import category_encoders as ce"
   ]
  },
  {
   "cell_type": "code",
   "execution_count": 2,
   "metadata": {},
   "outputs": [
    {
     "name": "stdout",
     "output_type": "stream",
     "text": [
      "(85895, 32)\n"
     ]
    },
    {
     "name": "stderr",
     "output_type": "stream",
     "text": [
      "C:\\Users\\ranbi\\AppData\\Local\\Temp\\ipykernel_60884\\3980253677.py:2: DtypeWarning: Columns (9) have mixed types. Specify dtype option on import or set low_memory=False.\n",
      "  df = pd.read_csv(\"License_data.csv\")\n"
     ]
    },
    {
     "data": {
      "text/html": [
       "<div>\n",
       "<style scoped>\n",
       "    .dataframe tbody tr th:only-of-type {\n",
       "        vertical-align: middle;\n",
       "    }\n",
       "\n",
       "    .dataframe tbody tr th {\n",
       "        vertical-align: top;\n",
       "    }\n",
       "\n",
       "    .dataframe thead th {\n",
       "        text-align: right;\n",
       "    }\n",
       "</style>\n",
       "<table border=\"1\" class=\"dataframe\">\n",
       "  <thead>\n",
       "    <tr style=\"text-align: right;\">\n",
       "      <th></th>\n",
       "      <th>0</th>\n",
       "      <th>1</th>\n",
       "      <th>2</th>\n",
       "      <th>3</th>\n",
       "      <th>4</th>\n",
       "    </tr>\n",
       "  </thead>\n",
       "  <tbody>\n",
       "    <tr>\n",
       "      <th>ID</th>\n",
       "      <td>35342-20020816</td>\n",
       "      <td>1358463-20051116</td>\n",
       "      <td>1980233-20090722</td>\n",
       "      <td>1476582-20040211</td>\n",
       "      <td>1141408-20080516</td>\n",
       "    </tr>\n",
       "    <tr>\n",
       "      <th>LICENSE ID</th>\n",
       "      <td>1256593</td>\n",
       "      <td>1639294</td>\n",
       "      <td>1980233</td>\n",
       "      <td>1476582</td>\n",
       "      <td>1896750</td>\n",
       "    </tr>\n",
       "    <tr>\n",
       "      <th>ACCOUNT NUMBER</th>\n",
       "      <td>32811</td>\n",
       "      <td>262311</td>\n",
       "      <td>345008</td>\n",
       "      <td>273121</td>\n",
       "      <td>213785</td>\n",
       "    </tr>\n",
       "    <tr>\n",
       "      <th>SITE NUMBER</th>\n",
       "      <td>1</td>\n",
       "      <td>29</td>\n",
       "      <td>1</td>\n",
       "      <td>1</td>\n",
       "      <td>1</td>\n",
       "    </tr>\n",
       "    <tr>\n",
       "      <th>LEGAL NAME</th>\n",
       "      <td>CARMEN CAHUE</td>\n",
       "      <td>ISLA TROPICAL, INC.</td>\n",
       "      <td>DJS REMODELING</td>\n",
       "      <td>ALL-BRY CONSTRUCTION CO.</td>\n",
       "      <td>MCDONOUGH MECHANICAL SERVICE</td>\n",
       "    </tr>\n",
       "    <tr>\n",
       "      <th>DOING BUSINESS AS NAME</th>\n",
       "      <td>CLAUDIA'S BRIDAL SHOP</td>\n",
       "      <td>ISLA TROPICAL</td>\n",
       "      <td>DJS REMODELING, INC.</td>\n",
       "      <td>ALL-BRY CONSTRUCTION CO.</td>\n",
       "      <td>MCDONOUGH MECHANICAL SERVICE</td>\n",
       "    </tr>\n",
       "    <tr>\n",
       "      <th>ADDRESS</th>\n",
       "      <td>2625 S CENTRAL PARK AVE  1</td>\n",
       "      <td>2825 W MONTROSE AVE</td>\n",
       "      <td>1605  CLAVEY RD 1</td>\n",
       "      <td>8  NORTH TRAIL</td>\n",
       "      <td>4081  JOSEPH DR</td>\n",
       "    </tr>\n",
       "    <tr>\n",
       "      <th>CITY</th>\n",
       "      <td>CHICAGO</td>\n",
       "      <td>CHICAGO</td>\n",
       "      <td>HIGHLAND</td>\n",
       "      <td>LEMONT</td>\n",
       "      <td>WAUKEGAN</td>\n",
       "    </tr>\n",
       "    <tr>\n",
       "      <th>STATE</th>\n",
       "      <td>IL</td>\n",
       "      <td>IL</td>\n",
       "      <td>IL</td>\n",
       "      <td>IL</td>\n",
       "      <td>IL</td>\n",
       "    </tr>\n",
       "    <tr>\n",
       "      <th>ZIP CODE</th>\n",
       "      <td>60623.0</td>\n",
       "      <td>60618</td>\n",
       "      <td>60035</td>\n",
       "      <td>60439</td>\n",
       "      <td>60087</td>\n",
       "    </tr>\n",
       "    <tr>\n",
       "      <th>WARD</th>\n",
       "      <td>22.0</td>\n",
       "      <td>33.0</td>\n",
       "      <td>NaN</td>\n",
       "      <td>NaN</td>\n",
       "      <td>NaN</td>\n",
       "    </tr>\n",
       "    <tr>\n",
       "      <th>PRECINCT</th>\n",
       "      <td>28.0</td>\n",
       "      <td>23.0</td>\n",
       "      <td>NaN</td>\n",
       "      <td>NaN</td>\n",
       "      <td>NaN</td>\n",
       "    </tr>\n",
       "    <tr>\n",
       "      <th>WARD PRECINCT</th>\n",
       "      <td>22-28</td>\n",
       "      <td>33-23</td>\n",
       "      <td>NaN</td>\n",
       "      <td>NaN</td>\n",
       "      <td>NaN</td>\n",
       "    </tr>\n",
       "    <tr>\n",
       "      <th>POLICE DISTRICT</th>\n",
       "      <td>10.0</td>\n",
       "      <td>17.0</td>\n",
       "      <td>NaN</td>\n",
       "      <td>NaN</td>\n",
       "      <td>NaN</td>\n",
       "    </tr>\n",
       "    <tr>\n",
       "      <th>LICENSE CODE</th>\n",
       "      <td>1010</td>\n",
       "      <td>1315</td>\n",
       "      <td>1011</td>\n",
       "      <td>1010</td>\n",
       "      <td>1010</td>\n",
       "    </tr>\n",
       "    <tr>\n",
       "      <th>LICENSE DESCRIPTION</th>\n",
       "      <td>Limited Business License</td>\n",
       "      <td>Mobile Food Dispenser</td>\n",
       "      <td>Home Repair</td>\n",
       "      <td>Limited Business License</td>\n",
       "      <td>Limited Business License</td>\n",
       "    </tr>\n",
       "    <tr>\n",
       "      <th>LICENSE NUMBER</th>\n",
       "      <td>35342.0</td>\n",
       "      <td>1358463.0</td>\n",
       "      <td>1980233.0</td>\n",
       "      <td>1476582.0</td>\n",
       "      <td>1141408.0</td>\n",
       "    </tr>\n",
       "    <tr>\n",
       "      <th>APPLICATION TYPE</th>\n",
       "      <td>RENEW</td>\n",
       "      <td>RENEW</td>\n",
       "      <td>ISSUE</td>\n",
       "      <td>ISSUE</td>\n",
       "      <td>RENEW</td>\n",
       "    </tr>\n",
       "    <tr>\n",
       "      <th>APPLICATION CREATED DATE</th>\n",
       "      <td>NaN</td>\n",
       "      <td>NaN</td>\n",
       "      <td>2009-06-29T00:00:00</td>\n",
       "      <td>2004-02-10T00:00:00</td>\n",
       "      <td>NaN</td>\n",
       "    </tr>\n",
       "    <tr>\n",
       "      <th>APPLICATION REQUIREMENTS COMPLETE</th>\n",
       "      <td>2002-06-28T00:00:00</td>\n",
       "      <td>2005-09-22T00:00:00</td>\n",
       "      <td>2009-07-22T00:00:00</td>\n",
       "      <td>2004-02-10T00:00:00</td>\n",
       "      <td>2008-03-24T00:00:00</td>\n",
       "    </tr>\n",
       "    <tr>\n",
       "      <th>PAYMENT DATE</th>\n",
       "      <td>2002-08-21T00:00:00</td>\n",
       "      <td>2005-11-03T00:00:00</td>\n",
       "      <td>2009-07-22T00:00:00</td>\n",
       "      <td>2004-02-10T00:00:00</td>\n",
       "      <td>2008-06-04T00:00:00</td>\n",
       "    </tr>\n",
       "    <tr>\n",
       "      <th>CONDITIONAL APPROVAL</th>\n",
       "      <td>N</td>\n",
       "      <td>N</td>\n",
       "      <td>N</td>\n",
       "      <td>N</td>\n",
       "      <td>N</td>\n",
       "    </tr>\n",
       "    <tr>\n",
       "      <th>LICENSE TERM START DATE</th>\n",
       "      <td>2002-08-16T00:00:00</td>\n",
       "      <td>2005-11-16T00:00:00</td>\n",
       "      <td>2009-07-22T00:00:00</td>\n",
       "      <td>2004-02-11T00:00:00</td>\n",
       "      <td>2008-05-16T00:00:00</td>\n",
       "    </tr>\n",
       "    <tr>\n",
       "      <th>LICENSE TERM EXPIRATION DATE</th>\n",
       "      <td>2003-08-15T00:00:00</td>\n",
       "      <td>2006-11-15T00:00:00</td>\n",
       "      <td>2011-07-15T00:00:00</td>\n",
       "      <td>2005-02-15T00:00:00</td>\n",
       "      <td>2010-05-15T00:00:00</td>\n",
       "    </tr>\n",
       "    <tr>\n",
       "      <th>LICENSE APPROVED FOR ISSUANCE</th>\n",
       "      <td>2002-08-21T00:00:00</td>\n",
       "      <td>2006-04-05T00:00:00</td>\n",
       "      <td>2009-07-22T00:00:00</td>\n",
       "      <td>2004-02-10T00:00:00</td>\n",
       "      <td>2008-06-04T00:00:00</td>\n",
       "    </tr>\n",
       "    <tr>\n",
       "      <th>DATE ISSUED</th>\n",
       "      <td>2006-04-11T00:00:00</td>\n",
       "      <td>2006-06-12T00:00:00</td>\n",
       "      <td>2009-07-22T00:00:00</td>\n",
       "      <td>2004-02-11T00:00:00</td>\n",
       "      <td>2008-06-05T00:00:00</td>\n",
       "    </tr>\n",
       "    <tr>\n",
       "      <th>LICENSE STATUS CHANGE DATE</th>\n",
       "      <td>NaN</td>\n",
       "      <td>2006-06-15T00:00:00</td>\n",
       "      <td>NaN</td>\n",
       "      <td>NaN</td>\n",
       "      <td>NaN</td>\n",
       "    </tr>\n",
       "    <tr>\n",
       "      <th>SSA</th>\n",
       "      <td>25.0</td>\n",
       "      <td>60.0</td>\n",
       "      <td>NaN</td>\n",
       "      <td>NaN</td>\n",
       "      <td>NaN</td>\n",
       "    </tr>\n",
       "    <tr>\n",
       "      <th>LATITUDE</th>\n",
       "      <td>41.843613</td>\n",
       "      <td>41.961132</td>\n",
       "      <td>NaN</td>\n",
       "      <td>NaN</td>\n",
       "      <td>NaN</td>\n",
       "    </tr>\n",
       "    <tr>\n",
       "      <th>LONGITUDE</th>\n",
       "      <td>-87.714618</td>\n",
       "      <td>-87.699626</td>\n",
       "      <td>NaN</td>\n",
       "      <td>NaN</td>\n",
       "      <td>NaN</td>\n",
       "    </tr>\n",
       "    <tr>\n",
       "      <th>LOCATION</th>\n",
       "      <td>{'latitude': '41.843612879431845', 'longitude'...</td>\n",
       "      <td>{'latitude': '41.96113244107215', 'longitude':...</td>\n",
       "      <td>NaN</td>\n",
       "      <td>NaN</td>\n",
       "      <td>NaN</td>\n",
       "    </tr>\n",
       "    <tr>\n",
       "      <th>LICENSE STATUS</th>\n",
       "      <td>AAI</td>\n",
       "      <td>AAC</td>\n",
       "      <td>AAI</td>\n",
       "      <td>AAI</td>\n",
       "      <td>AAI</td>\n",
       "    </tr>\n",
       "  </tbody>\n",
       "</table>\n",
       "</div>"
      ],
      "text/plain": [
       "                                                                                   0  \\\n",
       "ID                                                                    35342-20020816   \n",
       "LICENSE ID                                                                   1256593   \n",
       "ACCOUNT NUMBER                                                                 32811   \n",
       "SITE NUMBER                                                                        1   \n",
       "LEGAL NAME                                                              CARMEN CAHUE   \n",
       "DOING BUSINESS AS NAME                                         CLAUDIA'S BRIDAL SHOP   \n",
       "ADDRESS                                                   2625 S CENTRAL PARK AVE  1   \n",
       "CITY                                                                         CHICAGO   \n",
       "STATE                                                                             IL   \n",
       "ZIP CODE                                                                     60623.0   \n",
       "WARD                                                                            22.0   \n",
       "PRECINCT                                                                        28.0   \n",
       "WARD PRECINCT                                                                  22-28   \n",
       "POLICE DISTRICT                                                                 10.0   \n",
       "LICENSE CODE                                                                    1010   \n",
       "LICENSE DESCRIPTION                                         Limited Business License   \n",
       "LICENSE NUMBER                                                               35342.0   \n",
       "APPLICATION TYPE                                                               RENEW   \n",
       "APPLICATION CREATED DATE                                                         NaN   \n",
       "APPLICATION REQUIREMENTS COMPLETE                                2002-06-28T00:00:00   \n",
       "PAYMENT DATE                                                     2002-08-21T00:00:00   \n",
       "CONDITIONAL APPROVAL                                                               N   \n",
       "LICENSE TERM START DATE                                          2002-08-16T00:00:00   \n",
       "LICENSE TERM EXPIRATION DATE                                     2003-08-15T00:00:00   \n",
       "LICENSE APPROVED FOR ISSUANCE                                    2002-08-21T00:00:00   \n",
       "DATE ISSUED                                                      2006-04-11T00:00:00   \n",
       "LICENSE STATUS CHANGE DATE                                                       NaN   \n",
       "SSA                                                                             25.0   \n",
       "LATITUDE                                                                   41.843613   \n",
       "LONGITUDE                                                                 -87.714618   \n",
       "LOCATION                           {'latitude': '41.843612879431845', 'longitude'...   \n",
       "LICENSE STATUS                                                                   AAI   \n",
       "\n",
       "                                                                                   1  \\\n",
       "ID                                                                  1358463-20051116   \n",
       "LICENSE ID                                                                   1639294   \n",
       "ACCOUNT NUMBER                                                                262311   \n",
       "SITE NUMBER                                                                       29   \n",
       "LEGAL NAME                                                       ISLA TROPICAL, INC.   \n",
       "DOING BUSINESS AS NAME                                                 ISLA TROPICAL   \n",
       "ADDRESS                                                          2825 W MONTROSE AVE   \n",
       "CITY                                                                         CHICAGO   \n",
       "STATE                                                                             IL   \n",
       "ZIP CODE                                                                       60618   \n",
       "WARD                                                                            33.0   \n",
       "PRECINCT                                                                        23.0   \n",
       "WARD PRECINCT                                                                  33-23   \n",
       "POLICE DISTRICT                                                                 17.0   \n",
       "LICENSE CODE                                                                    1315   \n",
       "LICENSE DESCRIPTION                                            Mobile Food Dispenser   \n",
       "LICENSE NUMBER                                                             1358463.0   \n",
       "APPLICATION TYPE                                                               RENEW   \n",
       "APPLICATION CREATED DATE                                                         NaN   \n",
       "APPLICATION REQUIREMENTS COMPLETE                                2005-09-22T00:00:00   \n",
       "PAYMENT DATE                                                     2005-11-03T00:00:00   \n",
       "CONDITIONAL APPROVAL                                                               N   \n",
       "LICENSE TERM START DATE                                          2005-11-16T00:00:00   \n",
       "LICENSE TERM EXPIRATION DATE                                     2006-11-15T00:00:00   \n",
       "LICENSE APPROVED FOR ISSUANCE                                    2006-04-05T00:00:00   \n",
       "DATE ISSUED                                                      2006-06-12T00:00:00   \n",
       "LICENSE STATUS CHANGE DATE                                       2006-06-15T00:00:00   \n",
       "SSA                                                                             60.0   \n",
       "LATITUDE                                                                   41.961132   \n",
       "LONGITUDE                                                                 -87.699626   \n",
       "LOCATION                           {'latitude': '41.96113244107215', 'longitude':...   \n",
       "LICENSE STATUS                                                                   AAC   \n",
       "\n",
       "                                                      2  \\\n",
       "ID                                     1980233-20090722   \n",
       "LICENSE ID                                      1980233   \n",
       "ACCOUNT NUMBER                                   345008   \n",
       "SITE NUMBER                                           1   \n",
       "LEGAL NAME                               DJS REMODELING   \n",
       "DOING BUSINESS AS NAME             DJS REMODELING, INC.   \n",
       "ADDRESS                               1605  CLAVEY RD 1   \n",
       "CITY                                           HIGHLAND   \n",
       "STATE                                                IL   \n",
       "ZIP CODE                                          60035   \n",
       "WARD                                                NaN   \n",
       "PRECINCT                                            NaN   \n",
       "WARD PRECINCT                                       NaN   \n",
       "POLICE DISTRICT                                     NaN   \n",
       "LICENSE CODE                                       1011   \n",
       "LICENSE DESCRIPTION                         Home Repair   \n",
       "LICENSE NUMBER                                1980233.0   \n",
       "APPLICATION TYPE                                  ISSUE   \n",
       "APPLICATION CREATED DATE            2009-06-29T00:00:00   \n",
       "APPLICATION REQUIREMENTS COMPLETE   2009-07-22T00:00:00   \n",
       "PAYMENT DATE                        2009-07-22T00:00:00   \n",
       "CONDITIONAL APPROVAL                                  N   \n",
       "LICENSE TERM START DATE             2009-07-22T00:00:00   \n",
       "LICENSE TERM EXPIRATION DATE        2011-07-15T00:00:00   \n",
       "LICENSE APPROVED FOR ISSUANCE       2009-07-22T00:00:00   \n",
       "DATE ISSUED                         2009-07-22T00:00:00   \n",
       "LICENSE STATUS CHANGE DATE                          NaN   \n",
       "SSA                                                 NaN   \n",
       "LATITUDE                                            NaN   \n",
       "LONGITUDE                                           NaN   \n",
       "LOCATION                                            NaN   \n",
       "LICENSE STATUS                                      AAI   \n",
       "\n",
       "                                                          3  \\\n",
       "ID                                         1476582-20040211   \n",
       "LICENSE ID                                          1476582   \n",
       "ACCOUNT NUMBER                                       273121   \n",
       "SITE NUMBER                                               1   \n",
       "LEGAL NAME                         ALL-BRY CONSTRUCTION CO.   \n",
       "DOING BUSINESS AS NAME             ALL-BRY CONSTRUCTION CO.   \n",
       "ADDRESS                                      8  NORTH TRAIL   \n",
       "CITY                                                 LEMONT   \n",
       "STATE                                                    IL   \n",
       "ZIP CODE                                              60439   \n",
       "WARD                                                    NaN   \n",
       "PRECINCT                                                NaN   \n",
       "WARD PRECINCT                                           NaN   \n",
       "POLICE DISTRICT                                         NaN   \n",
       "LICENSE CODE                                           1010   \n",
       "LICENSE DESCRIPTION                Limited Business License   \n",
       "LICENSE NUMBER                                    1476582.0   \n",
       "APPLICATION TYPE                                      ISSUE   \n",
       "APPLICATION CREATED DATE                2004-02-10T00:00:00   \n",
       "APPLICATION REQUIREMENTS COMPLETE       2004-02-10T00:00:00   \n",
       "PAYMENT DATE                            2004-02-10T00:00:00   \n",
       "CONDITIONAL APPROVAL                                      N   \n",
       "LICENSE TERM START DATE                 2004-02-11T00:00:00   \n",
       "LICENSE TERM EXPIRATION DATE            2005-02-15T00:00:00   \n",
       "LICENSE APPROVED FOR ISSUANCE           2004-02-10T00:00:00   \n",
       "DATE ISSUED                             2004-02-11T00:00:00   \n",
       "LICENSE STATUS CHANGE DATE                              NaN   \n",
       "SSA                                                     NaN   \n",
       "LATITUDE                                                NaN   \n",
       "LONGITUDE                                               NaN   \n",
       "LOCATION                                                NaN   \n",
       "LICENSE STATUS                                          AAI   \n",
       "\n",
       "                                                              4  \n",
       "ID                                             1141408-20080516  \n",
       "LICENSE ID                                              1896750  \n",
       "ACCOUNT NUMBER                                           213785  \n",
       "SITE NUMBER                                                   1  \n",
       "LEGAL NAME                         MCDONOUGH MECHANICAL SERVICE  \n",
       "DOING BUSINESS AS NAME             MCDONOUGH MECHANICAL SERVICE  \n",
       "ADDRESS                                         4081  JOSEPH DR  \n",
       "CITY                                                   WAUKEGAN  \n",
       "STATE                                                        IL  \n",
       "ZIP CODE                                                  60087  \n",
       "WARD                                                        NaN  \n",
       "PRECINCT                                                    NaN  \n",
       "WARD PRECINCT                                               NaN  \n",
       "POLICE DISTRICT                                             NaN  \n",
       "LICENSE CODE                                               1010  \n",
       "LICENSE DESCRIPTION                    Limited Business License  \n",
       "LICENSE NUMBER                                        1141408.0  \n",
       "APPLICATION TYPE                                          RENEW  \n",
       "APPLICATION CREATED DATE                                    NaN  \n",
       "APPLICATION REQUIREMENTS COMPLETE           2008-03-24T00:00:00  \n",
       "PAYMENT DATE                                2008-06-04T00:00:00  \n",
       "CONDITIONAL APPROVAL                                          N  \n",
       "LICENSE TERM START DATE                     2008-05-16T00:00:00  \n",
       "LICENSE TERM EXPIRATION DATE                2010-05-15T00:00:00  \n",
       "LICENSE APPROVED FOR ISSUANCE               2008-06-04T00:00:00  \n",
       "DATE ISSUED                                 2008-06-05T00:00:00  \n",
       "LICENSE STATUS CHANGE DATE                                  NaN  \n",
       "SSA                                                         NaN  \n",
       "LATITUDE                                                    NaN  \n",
       "LONGITUDE                                                   NaN  \n",
       "LOCATION                                                    NaN  \n",
       "LICENSE STATUS                                              AAI  "
      ]
     },
     "metadata": {},
     "output_type": "display_data"
    }
   ],
   "source": [
    "\n",
    "df = pd.read_csv(\"License_data.csv\")\n",
    "\n",
    "print(df.shape)\n",
    "\n",
    "# show the top few rows\n",
    "display(df.head().T)"
   ]
  },
  {
   "cell_type": "code",
   "execution_count": 3,
   "metadata": {},
   "outputs": [],
   "source": [
    "# change the columns name\n",
    "new_col_name = [col.replace(\" \",\"_\").lower() for col in df.columns]\n",
    "df.columns = new_col_name"
   ]
  },
  {
   "cell_type": "code",
   "execution_count": 4,
   "metadata": {},
   "outputs": [
    {
     "data": {
      "text/plain": [
       "Index(['id', 'license_id', 'account_number', 'site_number', 'legal_name',\n",
       "       'doing_business_as_name', 'address', 'city', 'state', 'zip_code',\n",
       "       'ward', 'precinct', 'ward_precinct', 'police_district', 'license_code',\n",
       "       'license_description', 'license_number', 'application_type',\n",
       "       'application_created_date', 'application_requirements_complete',\n",
       "       'payment_date', 'conditional_approval', 'license_term_start_date',\n",
       "       'license_term_expiration_date', 'license_approved_for_issuance',\n",
       "       'date_issued', 'license_status_change_date', 'ssa', 'latitude',\n",
       "       'longitude', 'location', 'license_status'],\n",
       "      dtype='object')"
      ]
     },
     "execution_count": 4,
     "metadata": {},
     "output_type": "execute_result"
    }
   ],
   "source": [
    "df.columns"
   ]
  },
  {
   "cell_type": "markdown",
   "metadata": {},
   "source": [
    "## Data Cleansing\n",
    "\n",
    "1. Missing Values - lot of missing data for particular variables\n",
    "2. Unique Data - id (no meaning)\n",
    "3. Data leakage - The AAI alone doesn't have licesnse status change value (as the license are never revoked/cancelled) \n"
   ]
  },
  {
   "cell_type": "code",
   "execution_count": 5,
   "metadata": {},
   "outputs": [
    {
     "data": {
      "text/plain": [
       "id                                       0\n",
       "license_id                               0\n",
       "account_number                           0\n",
       "site_number                              0\n",
       "legal_name                               0\n",
       "doing_business_as_name                   1\n",
       "address                                  0\n",
       "city                                     0\n",
       "state                                    0\n",
       "zip_code                                31\n",
       "ward                                 49701\n",
       "precinct                             56701\n",
       "ward_precinct                        49700\n",
       "police_district                      54012\n",
       "license_code                             0\n",
       "license_description                      0\n",
       "license_number                           1\n",
       "application_type                         0\n",
       "application_created_date             64660\n",
       "application_requirements_complete      214\n",
       "payment_date                          1289\n",
       "conditional_approval                     0\n",
       "license_term_start_date                228\n",
       "license_term_expiration_date            18\n",
       "license_approved_for_issuance         6789\n",
       "date_issued                              0\n",
       "license_status_change_date           55400\n",
       "ssa                                  76446\n",
       "latitude                             47246\n",
       "longitude                            47246\n",
       "location                             47246\n",
       "license_status                           0\n",
       "dtype: int64"
      ]
     },
     "execution_count": 5,
     "metadata": {},
     "output_type": "execute_result"
    }
   ],
   "source": [
    "df.isnull().sum()"
   ]
  },
  {
   "cell_type": "code",
   "execution_count": 6,
   "metadata": {},
   "outputs": [],
   "source": [
    "\n",
    "drop_col_list = [\"id\",\"license_id\",\"ssa\",\"location\",\"application_created_date\",\"account_number\",\"address\"]\n",
    "df = df.drop(drop_col_list, axis=1)"
   ]
  },
  {
   "cell_type": "code",
   "execution_count": 7,
   "metadata": {},
   "outputs": [],
   "source": [
    "df[\"license_status_change\"] = np.where(df.license_status_change_date.isnull(),1,0)"
   ]
  },
  {
   "cell_type": "code",
   "execution_count": 8,
   "metadata": {},
   "outputs": [
    {
     "data": {
      "text/html": [
       "<div>\n",
       "<style scoped>\n",
       "    .dataframe tbody tr th:only-of-type {\n",
       "        vertical-align: middle;\n",
       "    }\n",
       "\n",
       "    .dataframe tbody tr th {\n",
       "        vertical-align: top;\n",
       "    }\n",
       "\n",
       "    .dataframe thead th {\n",
       "        text-align: right;\n",
       "    }\n",
       "</style>\n",
       "<table border=\"1\" class=\"dataframe\">\n",
       "  <thead>\n",
       "    <tr style=\"text-align: right;\">\n",
       "      <th>license_status</th>\n",
       "      <th>AAC</th>\n",
       "      <th>AAI</th>\n",
       "      <th>INQ</th>\n",
       "      <th>REA</th>\n",
       "      <th>REV</th>\n",
       "    </tr>\n",
       "    <tr>\n",
       "      <th>license_status_change</th>\n",
       "      <th></th>\n",
       "      <th></th>\n",
       "      <th></th>\n",
       "      <th></th>\n",
       "      <th></th>\n",
       "    </tr>\n",
       "  </thead>\n",
       "  <tbody>\n",
       "    <tr>\n",
       "      <th>0</th>\n",
       "      <td>30200</td>\n",
       "      <td>0</td>\n",
       "      <td>2</td>\n",
       "      <td>3</td>\n",
       "      <td>290</td>\n",
       "    </tr>\n",
       "    <tr>\n",
       "      <th>1</th>\n",
       "      <td>0</td>\n",
       "      <td>55400</td>\n",
       "      <td>0</td>\n",
       "      <td>0</td>\n",
       "      <td>0</td>\n",
       "    </tr>\n",
       "  </tbody>\n",
       "</table>\n",
       "</div>"
      ],
      "text/plain": [
       "license_status           AAC    AAI  INQ  REA  REV\n",
       "license_status_change                             \n",
       "0                      30200      0    2    3  290\n",
       "1                          0  55400    0    0    0"
      ]
     },
     "execution_count": 8,
     "metadata": {},
     "output_type": "execute_result"
    }
   ],
   "source": [
    "pd.crosstab(df.license_status_change,df.license_status)"
   ]
  },
  {
   "cell_type": "markdown",
   "metadata": {},
   "source": [
    "## Data Transformation\n",
    "1. Timeline creation\n",
    "2. Encoding\n",
    "3. New Feature"
   ]
  },
  {
   "cell_type": "code",
   "execution_count": 9,
   "metadata": {},
   "outputs": [],
   "source": [
    "# convert string object into date\n",
    "df.application_requirements_complete = pd.DatetimeIndex(df.application_requirements_complete)\n",
    "df.payment_date = pd.DatetimeIndex(df.payment_date)\n",
    "df.license_term_start_date = pd.DatetimeIndex(df.license_term_start_date)\n",
    "df.license_term_expiration_date = pd.DatetimeIndex(df.license_term_expiration_date)\n",
    "df.license_approved_for_issuance = pd.DatetimeIndex(df.license_approved_for_issuance)\n",
    "df.date_issued = pd.DatetimeIndex(df.date_issued)"
   ]
  },
  {
   "cell_type": "code",
   "execution_count": 10,
   "metadata": {},
   "outputs": [],
   "source": [
    "# Find no.of days btw different application status date\n",
    "df[\"completion_to_start\"] = (df.license_term_start_date - df.application_requirements_complete).dt.days\n",
    "df[\"start_to_expiry\"] =  (df.license_term_expiration_date - df.license_term_start_date).dt.days\n",
    "df[\"approval_to_issuance\"] = (df.date_issued - df.license_approved_for_issuance).dt.days\n",
    "df[\"completion_to_payment\"] = (df.payment_date - df.application_requirements_complete).dt.days\n",
    "\n",
    "df[\"presence_of_enquiry_details\"] = np.where(df.ward.isnull() | df.ward_precinct.isnull() | df.police_district | df.precinct , 0 ,1 )\n",
    "\n",
    "df[\"target\"] = df[['license_status']].apply(lambda col:pd.Categorical(col).codes)"
   ]
  },
  {
   "cell_type": "code",
   "execution_count": 11,
   "metadata": {},
   "outputs": [
    {
     "data": {
      "text/plain": [
       "array(['CHICAGO', 'HIGHLAND', 'LEMONT', ..., 'ABERDEEN', 'PENSACOLA',\n",
       "       'MACHESNEY PARK'], dtype=object)"
      ]
     },
     "execution_count": 11,
     "metadata": {},
     "output_type": "execute_result"
    }
   ],
   "source": [
    "df.city.unique()"
   ]
  },
  {
   "cell_type": "code",
   "execution_count": 12,
   "metadata": {},
   "outputs": [
    {
     "name": "stdout",
     "output_type": "stream",
     "text": [
      "Index(['target_1', 'target_2', 'target_3', 'target_4', 'target_5'], dtype='object')\n"
     ]
    },
    {
     "name": "stderr",
     "output_type": "stream",
     "text": [
      "C:\\Users\\Stanley\\anaconda3\\envs\\projectpro\\lib\\site-packages\\category_encoders\\utils.py:21: FutureWarning: is_categorical is deprecated and will be removed in a future version.  Use is_categorical_dtype instead\n",
      "  elif pd.api.types.is_categorical(cols):\n"
     ]
    }
   ],
   "source": [
    "enc=ce.OneHotEncoder().fit(df.target.astype(str))\n",
    "y_onehot=enc.transform(df.target.astype(str))\n",
    "print(y_onehot.columns)"
   ]
  },
  {
   "cell_type": "markdown",
   "metadata": {},
   "source": [
    "## Target Encoding"
   ]
  },
  {
   "cell_type": "code",
   "execution_count": 13,
   "metadata": {},
   "outputs": [
    {
     "name": "stderr",
     "output_type": "stream",
     "text": [
      "C:\\Users\\Stanley\\anaconda3\\envs\\projectpro\\lib\\site-packages\\category_encoders\\utils.py:21: FutureWarning: is_categorical is deprecated and will be removed in a future version.  Use is_categorical_dtype instead\n",
      "  elif pd.api.types.is_categorical(cols):\n",
      "C:\\Users\\Stanley\\anaconda3\\envs\\projectpro\\lib\\site-packages\\category_encoders\\utils.py:21: FutureWarning: is_categorical is deprecated and will be removed in a future version.  Use is_categorical_dtype instead\n",
      "  elif pd.api.types.is_categorical(cols):\n",
      "C:\\Users\\Stanley\\anaconda3\\envs\\projectpro\\lib\\site-packages\\category_encoders\\utils.py:21: FutureWarning: is_categorical is deprecated and will be removed in a future version.  Use is_categorical_dtype instead\n",
      "  elif pd.api.types.is_categorical(cols):\n",
      "C:\\Users\\Stanley\\anaconda3\\envs\\projectpro\\lib\\site-packages\\category_encoders\\utils.py:21: FutureWarning: is_categorical is deprecated and will be removed in a future version.  Use is_categorical_dtype instead\n",
      "  elif pd.api.types.is_categorical(cols):\n",
      "C:\\Users\\Stanley\\anaconda3\\envs\\projectpro\\lib\\site-packages\\category_encoders\\utils.py:21: FutureWarning: is_categorical is deprecated and will be removed in a future version.  Use is_categorical_dtype instead\n",
      "  elif pd.api.types.is_categorical(cols):\n",
      "C:\\Users\\Stanley\\anaconda3\\envs\\projectpro\\lib\\site-packages\\category_encoders\\utils.py:21: FutureWarning: is_categorical is deprecated and will be removed in a future version.  Use is_categorical_dtype instead\n",
      "  elif pd.api.types.is_categorical(cols):\n"
     ]
    }
   ],
   "source": [
    "enc=ce.OneHotEncoder().fit(df.target.astype(str))\n",
    "y_onehot=enc.transform(df.target.astype(str))\n",
    "\n",
    "class_names=y_onehot.columns\n",
    "for class_ in class_names:\n",
    "  enc=ce.TargetEncoder(smoothing=0)\n",
    "  temp = enc.fit_transform(df[[\"license_description\",\"state\",\"city\"]],y_onehot[class_])\n",
    "  temp.columns=[str(x)+'_'+str(class_) for x in temp.columns]\n",
    "  df = pd.concat([df,temp],axis=1)"
   ]
  },
  {
   "cell_type": "markdown",
   "metadata": {},
   "source": [
    "### Class Imbalance "
   ]
  },
  {
   "cell_type": "code",
   "execution_count": 14,
   "metadata": {},
   "outputs": [
    {
     "data": {
      "text/plain": [
       "AAI    55400\n",
       "AAC    30200\n",
       "REV      290\n",
       "REA        3\n",
       "INQ        2\n",
       "Name: license_status, dtype: int64"
      ]
     },
     "execution_count": 14,
     "metadata": {},
     "output_type": "execute_result"
    }
   ],
   "source": [
    "df.license_status.value_counts()"
   ]
  },
  {
   "cell_type": "code",
   "execution_count": 15,
   "metadata": {},
   "outputs": [
    {
     "data": {
      "text/plain": [
       "AAI    64.497%\n",
       "AAC    35.159%\n",
       "REV     0.338%\n",
       "REA     0.003%\n",
       "INQ     0.002%\n",
       "Name: license_status, dtype: object"
      ]
     },
     "execution_count": 15,
     "metadata": {},
     "output_type": "execute_result"
    }
   ],
   "source": [
    "df.license_status.value_counts(normalize=True).mul(100).round(3).astype(str) + '%'"
   ]
  },
  {
   "cell_type": "markdown",
   "metadata": {},
   "source": [
    "## over sampling/under sampling"
   ]
  },
  {
   "cell_type": "code",
   "execution_count": 16,
   "metadata": {},
   "outputs": [
    {
     "data": {
      "text/plain": [
       "[0, 1, 2, 3, 4]"
      ]
     },
     "execution_count": 16,
     "metadata": {},
     "output_type": "execute_result"
    }
   ],
   "source": [
    "np.sort(df.target.unique()).tolist()"
   ]
  },
  {
   "cell_type": "code",
   "execution_count": 17,
   "metadata": {},
   "outputs": [
    {
     "data": {
      "text/plain": [
       "1    16620\n",
       "0     9060\n",
       "4      580\n",
       "2      400\n",
       "3      300\n",
       "Name: target, dtype: int64"
      ]
     },
     "execution_count": 17,
     "metadata": {},
     "output_type": "execute_result"
    }
   ],
   "source": [
    "df_0 = df[df.target==0].sample(frac=0.3,replace=False)\n",
    "df_1 = df[df.target==1].sample(frac=0.3,replace=False)\n",
    "\n",
    "df_2 = df[df.target==2].sample(frac=200,replace=True)\n",
    "df_3 = df[df.target==3].sample(frac=100,replace=True)\n",
    "df_4 = df[df.target==4].sample(frac=2,replace=True)\n",
    "\n",
    "sampled_df = pd.concat([df_0,df_1,df_2,df_3,df_4])\n",
    "\n",
    "sampled_df.target.value_counts()"
   ]
  },
  {
   "cell_type": "markdown",
   "metadata": {},
   "source": [
    "## Train / Test Data Preparation"
   ]
  },
  {
   "cell_type": "code",
   "execution_count": 18,
   "metadata": {},
   "outputs": [],
   "source": [
    "X = sampled_df[['latitude', 'longitude',\n",
    "       'completion_to_start',\n",
    "       'start_to_expiry', 'approval_to_issuance', 'completion_to_payment',\n",
    "       'presence_of_enquiry_details',  'license_description_target_1',\n",
    "       'state_target_1', 'city_target_1', 'license_description_target_2',\n",
    "       'state_target_2', 'city_target_2', 'license_description_target_3',\n",
    "       'state_target_3', 'city_target_3', 'license_description_target_4',\n",
    "       'state_target_4', 'city_target_4', 'license_description_target_5',\n",
    "       'state_target_5', 'city_target_5']]\n",
    "\n",
    "y = sampled_df['target']"
   ]
  },
  {
   "cell_type": "code",
   "execution_count": 19,
   "metadata": {},
   "outputs": [],
   "source": [
    "# mean imputation\n",
    "X = X.fillna(X.mean())"
   ]
  },
  {
   "cell_type": "code",
   "execution_count": 20,
   "metadata": {},
   "outputs": [],
   "source": [
    "# Train/test preparation\n",
    "from sklearn.model_selection import train_test_split\n",
    "from sklearn.ensemble import RandomForestClassifier\n",
    "from sklearn.metrics import f1_score\n",
    "\n",
    "X_train, X_test, y_train, y_test = train_test_split(X,y, test_size=0.1)"
   ]
  },
  {
   "cell_type": "markdown",
   "metadata": {},
   "source": [
    "## Modeling"
   ]
  },
  {
   "cell_type": "code",
   "execution_count": 21,
   "metadata": {},
   "outputs": [],
   "source": [
    "\n",
    "from sklearn.neighbors import KNeighborsClassifier\n",
    "knn_model = KNeighborsClassifier(n_neighbors=3)"
   ]
  },
  {
   "cell_type": "code",
   "execution_count": 22,
   "metadata": {},
   "outputs": [],
   "source": [
    "# Scaling\n",
    "from sklearn.preprocessing import MinMaxScaler\n",
    "scaler = MinMaxScaler()\n",
    "scaler.fit(X_train)\n",
    "knn_model.fit((scaler.transform(X_train)),y_train)\n",
    "scaler.fit(X_test)\n",
    "y_pred = knn_model.predict(scaler.transform(X_test))"
   ]
  },
  {
   "cell_type": "code",
   "execution_count": 23,
   "metadata": {},
   "outputs": [
    {
     "name": "stdout",
     "output_type": "stream",
     "text": [
      "              precision    recall  f1-score   support\n",
      "\n",
      "           0       0.67      0.84      0.74       877\n",
      "           1       0.92      0.81      0.86      1688\n",
      "           2       0.00      0.00      0.00        31\n",
      "           3       0.94      1.00      0.97        30\n",
      "           4       0.61      0.63      0.62        70\n",
      "\n",
      "    accuracy                           0.81      2696\n",
      "   macro avg       0.63      0.66      0.64      2696\n",
      "weighted avg       0.82      0.81      0.81      2696\n",
      "\n"
     ]
    },
    {
     "name": "stderr",
     "output_type": "stream",
     "text": [
      "C:\\Users\\Stanley\\anaconda3\\envs\\projectpro\\lib\\site-packages\\sklearn\\metrics\\_classification.py:1245: UndefinedMetricWarning: Precision and F-score are ill-defined and being set to 0.0 in labels with no predicted samples. Use `zero_division` parameter to control this behavior.\n",
      "  _warn_prf(average, modifier, msg_start, len(result))\n",
      "C:\\Users\\Stanley\\anaconda3\\envs\\projectpro\\lib\\site-packages\\sklearn\\metrics\\_classification.py:1245: UndefinedMetricWarning: Precision and F-score are ill-defined and being set to 0.0 in labels with no predicted samples. Use `zero_division` parameter to control this behavior.\n",
      "  _warn_prf(average, modifier, msg_start, len(result))\n",
      "C:\\Users\\Stanley\\anaconda3\\envs\\projectpro\\lib\\site-packages\\sklearn\\metrics\\_classification.py:1245: UndefinedMetricWarning: Precision and F-score are ill-defined and being set to 0.0 in labels with no predicted samples. Use `zero_division` parameter to control this behavior.\n",
      "  _warn_prf(average, modifier, msg_start, len(result))\n"
     ]
    }
   ],
   "source": [
    "# Metrics Performance\n",
    "from sklearn.metrics import classification_report\n",
    "from sklearn.metrics import classification_report,confusion_matrix\n",
    "print(classification_report(y_test,y_pred))"
   ]
  },
  {
   "cell_type": "code",
   "execution_count": 24,
   "metadata": {},
   "outputs": [
    {
     "name": "stderr",
     "output_type": "stream",
     "text": [
      "C:\\Users\\Stanley\\anaconda3\\envs\\projectpro\\lib\\site-packages\\sklearn\\linear_model\\_logistic.py:763: ConvergenceWarning: lbfgs failed to converge (status=1):\n",
      "STOP: TOTAL NO. of ITERATIONS REACHED LIMIT.\n",
      "\n",
      "Increase the number of iterations (max_iter) or scale the data as shown in:\n",
      "    https://scikit-learn.org/stable/modules/preprocessing.html\n",
      "Please also refer to the documentation for alternative solver options:\n",
      "    https://scikit-learn.org/stable/modules/linear_model.html#logistic-regression\n",
      "  n_iter_i = _check_optimize_result(\n"
     ]
    }
   ],
   "source": [
    "# Logistic regression\n",
    "from sklearn.linear_model import LogisticRegression\n",
    "log_model = LogisticRegression()\n",
    "log_model.fit(X_train, y_train)\n",
    "y_pred = log_model.predict(X_test)"
   ]
  },
  {
   "cell_type": "code",
   "execution_count": 25,
   "metadata": {},
   "outputs": [
    {
     "name": "stdout",
     "output_type": "stream",
     "text": [
      "              precision    recall  f1-score   support\n",
      "\n",
      "           0       0.58      0.37      0.45       877\n",
      "           1       0.71      0.90      0.80      1688\n",
      "           2       0.00      0.00      0.00        31\n",
      "           3       0.00      0.00      0.00        30\n",
      "           4       0.00      0.00      0.00        70\n",
      "\n",
      "    accuracy                           0.68      2696\n",
      "   macro avg       0.26      0.25      0.25      2696\n",
      "weighted avg       0.63      0.68      0.64      2696\n",
      "\n"
     ]
    },
    {
     "name": "stderr",
     "output_type": "stream",
     "text": [
      "C:\\Users\\Stanley\\anaconda3\\envs\\projectpro\\lib\\site-packages\\sklearn\\metrics\\_classification.py:1245: UndefinedMetricWarning: Precision and F-score are ill-defined and being set to 0.0 in labels with no predicted samples. Use `zero_division` parameter to control this behavior.\n",
      "  _warn_prf(average, modifier, msg_start, len(result))\n",
      "C:\\Users\\Stanley\\anaconda3\\envs\\projectpro\\lib\\site-packages\\sklearn\\metrics\\_classification.py:1245: UndefinedMetricWarning: Precision and F-score are ill-defined and being set to 0.0 in labels with no predicted samples. Use `zero_division` parameter to control this behavior.\n",
      "  _warn_prf(average, modifier, msg_start, len(result))\n",
      "C:\\Users\\Stanley\\anaconda3\\envs\\projectpro\\lib\\site-packages\\sklearn\\metrics\\_classification.py:1245: UndefinedMetricWarning: Precision and F-score are ill-defined and being set to 0.0 in labels with no predicted samples. Use `zero_division` parameter to control this behavior.\n",
      "  _warn_prf(average, modifier, msg_start, len(result))\n"
     ]
    }
   ],
   "source": [
    "# Metrics Performance\n",
    "print(classification_report(y_test,y_pred))"
   ]
  },
  {
   "cell_type": "code",
   "execution_count": 26,
   "metadata": {},
   "outputs": [
    {
     "name": "stdout",
     "output_type": "stream",
     "text": [
      "[[ 321  555    1    0    0]\n",
      " [ 161 1524    2    1    0]\n",
      " [   0   31    0    0    0]\n",
      " [  30    0    0    0    0]\n",
      " [  46   24    0    0    0]]\n"
     ]
    }
   ],
   "source": [
    "# Metrics Performance\n",
    "print(confusion_matrix(y_test,y_pred))"
   ]
  },
  {
   "cell_type": "code",
   "execution_count": 29,
   "metadata": {},
   "outputs": [],
   "source": [
    "# Naive Bias\n",
    "from sklearn.naive_bayes import GaussianNB\n",
    "nb_model = GaussianNB()\n",
    "y_pred = nb_model.fit(X_train, y_train).predict(X_test)"
   ]
  },
  {
   "cell_type": "code",
   "execution_count": 30,
   "metadata": {},
   "outputs": [
    {
     "name": "stdout",
     "output_type": "stream",
     "text": [
      "              precision    recall  f1-score   support\n",
      "\n",
      "           0       0.30      0.04      0.07       877\n",
      "           1       0.91      0.85      0.88      1688\n",
      "           2       1.00      1.00      1.00        31\n",
      "           3       0.23      1.00      0.38        30\n",
      "           4       0.07      0.83      0.13        70\n",
      "\n",
      "    accuracy                           0.59      2696\n",
      "   macro avg       0.50      0.74      0.49      2696\n",
      "weighted avg       0.68      0.59      0.59      2696\n",
      "\n"
     ]
    }
   ],
   "source": [
    "# Metrics Performance\n",
    "print(classification_report(y_test,y_pred))"
   ]
  },
  {
   "cell_type": "code",
   "execution_count": 31,
   "metadata": {},
   "outputs": [
    {
     "name": "stdout",
     "output_type": "stream",
     "text": [
      "[[  35  143    0   81  618]\n",
      " [  81 1430    0    8  169]\n",
      " [   0    0   31    0    0]\n",
      " [   0    0    0   30    0]\n",
      " [   1    2    0    9   58]]\n"
     ]
    }
   ],
   "source": [
    "print(confusion_matrix(y_test,y_pred))"
   ]
  },
  {
   "cell_type": "code",
   "execution_count": 32,
   "metadata": {},
   "outputs": [],
   "source": [
    "# Decision Tree\n",
    "from sklearn.tree import DecisionTreeClassifier\n",
    "dt_model = DecisionTreeClassifier(random_state=0)\n",
    "y_pred = dt_model.fit(X_train, y_train).predict(X_test)"
   ]
  },
  {
   "cell_type": "code",
   "execution_count": 33,
   "metadata": {},
   "outputs": [
    {
     "data": {
      "text/plain": [
       "DecisionTreeClassifier()"
      ]
     },
     "execution_count": 33,
     "metadata": {},
     "output_type": "execute_result"
    }
   ],
   "source": [
    "# Decision Tree\n",
    "from sklearn.tree import DecisionTreeClassifier\n",
    "DecisionTreeClassifier()"
   ]
  },
  {
   "cell_type": "code",
   "execution_count": 34,
   "metadata": {},
   "outputs": [
    {
     "name": "stdout",
     "output_type": "stream",
     "text": [
      "              precision    recall  f1-score   support\n",
      "\n",
      "           0       0.78      0.79      0.79       877\n",
      "           1       0.90      0.89      0.90      1688\n",
      "           2       1.00      1.00      1.00        31\n",
      "           3       1.00      1.00      1.00        30\n",
      "           4       0.77      0.83      0.80        70\n",
      "\n",
      "    accuracy                           0.86      2696\n",
      "   macro avg       0.89      0.90      0.90      2696\n",
      "weighted avg       0.86      0.86      0.86      2696\n",
      "\n"
     ]
    }
   ],
   "source": [
    "# Metrics Performance\n",
    "print(classification_report(y_test,y_pred))"
   ]
  },
  {
   "cell_type": "code",
   "execution_count": 35,
   "metadata": {},
   "outputs": [
    {
     "name": "stdout",
     "output_type": "stream",
     "text": [
      "[[ 691  170    0    0   16]\n",
      " [ 180 1507    0    0    1]\n",
      " [   0    0   31    0    0]\n",
      " [   0    0    0   30    0]\n",
      " [  12    0    0    0   58]]\n"
     ]
    }
   ],
   "source": [
    "print(confusion_matrix(y_test,y_pred))"
   ]
  },
  {
   "cell_type": "code",
   "execution_count": 36,
   "metadata": {},
   "outputs": [],
   "source": [
    "# Finding the variable with more importance\n",
    "feature_importance = pd.DataFrame([X_train.columns, dt_model.feature_importances_])\n",
    "feature_importance = feature_importance.T.sort_values(by = 1, ascending=False)[1:10]"
   ]
  },
  {
   "cell_type": "code",
   "execution_count": 37,
   "metadata": {},
   "outputs": [
    {
     "name": "stderr",
     "output_type": "stream",
     "text": [
      "No handles with labels found to put in legend.\n"
     ]
    },
    {
     "data": {
      "image/png": "[encoded data removed]",
      "text/plain": [
       "<Figure size 432x288 with 1 Axes>"
      ]
     },
     "metadata": {
      "needs_background": "light"
     },
     "output_type": "display_data"
    }
   ],
   "source": [
    "import seaborn as sns\n",
    "sns.barplot(x=feature_importance[1], y=feature_importance[0])\n",
    "# Add labels to the graph\n",
    "plt.xlabel('Feature Importance Score')\n",
    "plt.ylabel('Features')\n",
    "plt.title(\"Visualizing Important Features\")\n",
    "plt.legend()\n",
    "plt.show()"
   ]
  },
  {
   "cell_type": "code",
   "execution_count": 39,
   "metadata": {},
   "outputs": [],
   "source": [
    "# Random Tree\n",
    "from sklearn.ensemble import RandomForestClassifier\n",
    "rf_model = RandomForestClassifier(random_state=1)\n",
    "y_pred = rf_model.fit(X_train, y_train).predict(X_test)"
   ]
  },
  {
   "cell_type": "code",
   "execution_count": 104,
   "metadata": {},
   "outputs": [
    {
     "data": {
      "text/plain": [
       "{'bootstrap': True,\n",
       " 'ccp_alpha': 0.0,\n",
       " 'class_weight': None,\n",
       " 'criterion': 'gini',\n",
       " 'max_depth': None,\n",
       " 'max_features': 'auto',\n",
       " 'max_leaf_nodes': None,\n",
       " 'max_samples': None,\n",
       " 'min_impurity_decrease': 0.0,\n",
       " 'min_impurity_split': None,\n",
       " 'min_samples_leaf': 1,\n",
       " 'min_samples_split': 2,\n",
       " 'min_weight_fraction_leaf': 0.0,\n",
       " 'n_estimators': 100,\n",
       " 'n_jobs': None,\n",
       " 'oob_score': False,\n",
       " 'random_state': 1,\n",
       " 'verbose': 0,\n",
       " 'warm_start': False}"
      ]
     },
     "execution_count": 104,
     "metadata": {},
     "output_type": "execute_result"
    }
   ],
   "source": [
    "rf_model.get_params()"
   ]
  },
  {
   "cell_type": "code",
   "execution_count": 40,
   "metadata": {},
   "outputs": [
    {
     "name": "stdout",
     "output_type": "stream",
     "text": [
      "              precision    recall  f1-score   support\n",
      "\n",
      "           0       0.82      0.87      0.85       877\n",
      "           1       0.93      0.91      0.92      1688\n",
      "           2       1.00      1.00      1.00        31\n",
      "           3       1.00      1.00      1.00        30\n",
      "           4       0.94      0.83      0.88        70\n",
      "\n",
      "    accuracy                           0.90      2696\n",
      "   macro avg       0.94      0.92      0.93      2696\n",
      "weighted avg       0.90      0.90      0.90      2696\n",
      "\n"
     ]
    }
   ],
   "source": [
    "# Metrics Performance\n",
    "print(classification_report(y_test,y_pred))"
   ]
  },
  {
   "cell_type": "code",
   "execution_count": 41,
   "metadata": {},
   "outputs": [],
   "source": [
    "# Finding the variable with more importance\n",
    "feature_importance = pd.DataFrame([X_train.columns, rf_model.feature_importances_])\n",
    "feature_importance = feature_importance.T.sort_values(by = 1, ascending=False)[1:10]"
   ]
  },
  {
   "cell_type": "code",
   "execution_count": 42,
   "metadata": {},
   "outputs": [
    {
     "name": "stderr",
     "output_type": "stream",
     "text": [
      "No handles with labels found to put in legend.\n"
     ]
    },
    {
     "data": {
      "image/png": "[encoded data removed]",
      "text/plain": [
       "<Figure size 432x288 with 1 Axes>"
      ]
     },
     "metadata": {
      "needs_background": "light"
     },
     "output_type": "display_data"
    }
   ],
   "source": [
    "import seaborn as sns\n",
    "sns.barplot(x=feature_importance[1], y=feature_importance[0])\n",
    "# Add labels to the graph\n",
    "plt.xlabel('Feature Importance Score')\n",
    "plt.ylabel('Features')\n",
    "plt.title(\"Visualizing Important Features\")\n",
    "plt.legend()\n",
    "plt.show()"
   ]
  },
  {
   "cell_type": "code",
   "execution_count": 56,
   "metadata": {},
   "outputs": [
    {
     "data": {
      "text/plain": [
       "AdaBoostClassifier(random_state=0)"
      ]
     },
     "execution_count": 56,
     "metadata": {},
     "output_type": "execute_result"
    }
   ],
   "source": [
    "from sklearn.ensemble import AdaBoostClassifier\n",
    "ada_model = AdaBoostClassifier(random_state=0)\n",
    "ada_model.fit(X_train,y_train)"
   ]
  },
  {
   "cell_type": "code",
   "execution_count": 57,
   "metadata": {},
   "outputs": [],
   "source": [
    "y_pred = ada_model.predict(X_test)"
   ]
  },
  {
   "cell_type": "code",
   "execution_count": 58,
   "metadata": {},
   "outputs": [
    {
     "name": "stdout",
     "output_type": "stream",
     "text": [
      "              precision    recall  f1-score   support\n",
      "\n",
      "           0       0.63      0.64      0.63       877\n",
      "           1       0.80      0.84      0.82      1688\n",
      "           2       0.00      0.00      0.00        31\n",
      "           3       0.69      0.67      0.68        30\n",
      "           4       0.00      0.00      0.00        70\n",
      "\n",
      "    accuracy                           0.74      2696\n",
      "   macro avg       0.42      0.43      0.43      2696\n",
      "weighted avg       0.71      0.74      0.73      2696\n",
      "\n"
     ]
    },
    {
     "name": "stderr",
     "output_type": "stream",
     "text": [
      "C:\\Users\\Stanley\\anaconda3\\envs\\projectpro\\lib\\site-packages\\sklearn\\metrics\\_classification.py:1245: UndefinedMetricWarning: Precision and F-score are ill-defined and being set to 0.0 in labels with no predicted samples. Use `zero_division` parameter to control this behavior.\n",
      "  _warn_prf(average, modifier, msg_start, len(result))\n",
      "C:\\Users\\Stanley\\anaconda3\\envs\\projectpro\\lib\\site-packages\\sklearn\\metrics\\_classification.py:1245: UndefinedMetricWarning: Precision and F-score are ill-defined and being set to 0.0 in labels with no predicted samples. Use `zero_division` parameter to control this behavior.\n",
      "  _warn_prf(average, modifier, msg_start, len(result))\n",
      "C:\\Users\\Stanley\\anaconda3\\envs\\projectpro\\lib\\site-packages\\sklearn\\metrics\\_classification.py:1245: UndefinedMetricWarning: Precision and F-score are ill-defined and being set to 0.0 in labels with no predicted samples. Use `zero_division` parameter to control this behavior.\n",
      "  _warn_prf(average, modifier, msg_start, len(result))\n"
     ]
    }
   ],
   "source": [
    "# Metrics Performance\n",
    "print(classification_report(y_test,y_pred))"
   ]
  },
  {
   "cell_type": "code",
   "execution_count": 59,
   "metadata": {},
   "outputs": [],
   "source": [
    "# xg Boost\n",
    "from xgboost import XGBClassifier"
   ]
  },
  {
   "cell_type": "code",
   "execution_count": 60,
   "metadata": {},
   "outputs": [
    {
     "data": {
      "text/plain": [
       "(24264, 22)"
      ]
     },
     "execution_count": 60,
     "metadata": {},
     "output_type": "execute_result"
    }
   ],
   "source": [
    "X_train.shape"
   ]
  },
  {
   "cell_type": "code",
   "execution_count": 67,
   "metadata": {},
   "outputs": [
    {
     "name": "stderr",
     "output_type": "stream",
     "text": [
      "C:\\Users\\Stanley\\anaconda3\\envs\\projectpro\\lib\\site-packages\\xgboost\\sklearn.py:1146: UserWarning: The use of label encoder in XGBClassifier is deprecated and will be removed in a future release. To remove this warning, do the following: 1) Pass option use_label_encoder=False when constructing XGBClassifier object; and 2) Encode your labels (y) as integers starting with 0, i.e. 0, 1, 2, ..., [num_class - 1].\n",
      "  warnings.warn(label_encoder_deprecation_msg, UserWarning)\n"
     ]
    },
    {
     "name": "stdout",
     "output_type": "stream",
     "text": [
      "[11:44:10] WARNING: C:/Users/Administrator/workspace/xgboost-win64_release_1.4.0/src/learner.cc:1095: Starting in XGBoost 1.3.0, the default evaluation metric used with the objective 'multi:softprob' was changed from 'merror' to 'mlogloss'. Explicitly set eval_metric if you'd like to restore the old behavior.\n"
     ]
    },
    {
     "data": {
      "text/plain": [
       "XGBClassifier(base_score=0.5, booster='gbtree', colsample_bylevel=1,\n",
       "              colsample_bynode=1, colsample_bytree=1, gamma=0, gpu_id=-1,\n",
       "              importance_type='gain', interaction_constraints='',\n",
       "              learning_rate=0.300000012, max_delta_step=0, max_depth=6,\n",
       "              min_child_weight=1, missing=nan, monotone_constraints='()',\n",
       "              n_estimators=100, n_jobs=4, num_parallel_tree=1,\n",
       "              objective='multi:softprob', random_state=1, reg_alpha=0,\n",
       "              reg_lambda=1, scale_pos_weight=None, subsample=1,\n",
       "              tree_method='exact', validate_parameters=1, verbosity=None)"
      ]
     },
     "execution_count": 67,
     "metadata": {},
     "output_type": "execute_result"
    }
   ],
   "source": [
    "xg_model = XGBClassifier(random_state=1)\n",
    "xg_model.fit(X_train, y_train)"
   ]
  },
  {
   "cell_type": "code",
   "execution_count": 68,
   "metadata": {},
   "outputs": [],
   "source": [
    "y_pred = xg_model.predict(X_test)"
   ]
  },
  {
   "cell_type": "code",
   "execution_count": 69,
   "metadata": {},
   "outputs": [
    {
     "data": {
      "text/plain": [
       "0.9302760565719289"
      ]
     },
     "execution_count": 69,
     "metadata": {},
     "output_type": "execute_result"
    }
   ],
   "source": [
    "from sklearn import metrics\n",
    "metrics.f1_score(y_test,y_pred,average=\"macro\")"
   ]
  },
  {
   "cell_type": "code",
   "execution_count": 70,
   "metadata": {},
   "outputs": [
    {
     "name": "stdout",
     "output_type": "stream",
     "text": [
      "              precision    recall  f1-score   support\n",
      "\n",
      "           0       0.84      0.86      0.85       877\n",
      "           1       0.93      0.92      0.92      1688\n",
      "           2       1.00      1.00      1.00        31\n",
      "           3       1.00      1.00      1.00        30\n",
      "           4       0.92      0.84      0.88        70\n",
      "\n",
      "    accuracy                           0.90      2696\n",
      "   macro avg       0.94      0.92      0.93      2696\n",
      "weighted avg       0.90      0.90      0.90      2696\n",
      "\n"
     ]
    }
   ],
   "source": [
    "# Metrics Performance\n",
    "print(classification_report(y_test,y_pred))"
   ]
  },
  {
   "cell_type": "code",
   "execution_count": 71,
   "metadata": {},
   "outputs": [],
   "source": [
    "# Finding the variable with more importance\n",
    "feature_importance = pd.DataFrame([X_train.columns, xg_model.feature_importances_])\n",
    "feature_importance = feature_importance.T.sort_values(by = 1, ascending=False)[1:10]"
   ]
  },
  {
   "cell_type": "code",
   "execution_count": 72,
   "metadata": {},
   "outputs": [
    {
     "name": "stderr",
     "output_type": "stream",
     "text": [
      "No handles with labels found to put in legend.\n"
     ]
    },
    {
     "data": {
      "image/png": "[encoded data removed]",
      "text/plain": [
       "<Figure size 432x288 with 1 Axes>"
      ]
     },
     "metadata": {
      "needs_background": "light"
     },
     "output_type": "display_data"
    }
   ],
   "source": [
    "import seaborn as sns\n",
    "sns.barplot(x=feature_importance[1], y=feature_importance[0])\n",
    "# Add labels to the graph\n",
    "plt.xlabel('Feature Importance Score')\n",
    "plt.ylabel('Features')\n",
    "plt.title(\"Visualizing Important Features\")\n",
    "plt.legend()\n",
    "plt.show()"
   ]
  },
  {
   "cell_type": "code",
   "execution_count": null,
   "metadata": {},
   "outputs": [],
   "source": [
    "# Hyperparameter Tuning - Tree parameters\n",
    "1. No. of trees\n",
    "2. Depth of the trees\n",
    "3. Min no. of samples in the leaf node\n",
    "4. Max number of features\n",
    "5. Split Criterion "
   ]
  },
  {
   "cell_type": "code",
   "execution_count": 75,
   "metadata": {},
   "outputs": [],
   "source": [
    "from sklearn.model_selection import RandomizedSearchCV,GridSearchCV"
   ]
  },
  {
   "cell_type": "code",
   "execution_count": 125,
   "metadata": {},
   "outputs": [],
   "source": [
    "#Number of trees in random forest\n",
    "n_estimators = [int(x) for x in np.linspace(start = 200, stop = 2000, num = 10)]\n",
    "# Number of features to consider at every split\n",
    "max_features = ['auto', 'sqrt']\n",
    "# Maximum number of levels in tree\n",
    "max_depth = [int(x) for x in np.linspace(10, 110, num = 11)]\n",
    "max_depth.append(None)\n",
    "# Minimum number of samples required to split a node\n",
    "min_samples_split = [2, 5, 10,15,20]\n",
    "# Minimum number of samples required at each leaf node\n",
    "min_samples_leaf = [1, 2, 4,6,10]"
   ]
  },
  {
   "cell_type": "code",
   "execution_count": 126,
   "metadata": {},
   "outputs": [
    {
     "data": {
      "text/plain": [
       "[200, 400, 600, 800, 1000, 1200, 1400, 1600, 1800, 2000]"
      ]
     },
     "execution_count": 126,
     "metadata": {},
     "output_type": "execute_result"
    }
   ],
   "source": [
    "n_estimators"
   ]
  },
  {
   "cell_type": "code",
   "execution_count": 127,
   "metadata": {},
   "outputs": [
    {
     "data": {
      "text/plain": [
       "[10, 20, 30, 40, 50, 60, 70, 80, 90, 100, 110, None]"
      ]
     },
     "execution_count": 127,
     "metadata": {},
     "output_type": "execute_result"
    }
   ],
   "source": [
    "max_depth"
   ]
  },
  {
   "cell_type": "code",
   "execution_count": 184,
   "metadata": {},
   "outputs": [
    {
     "name": "stdout",
     "output_type": "stream",
     "text": [
      "{'n_estimators': [200, 400, 600, 800, 1000, 1200, 1400, 1600, 1800, 2000], 'max_features': ['auto', 'sqrt'], 'max_depth': [10, 20, 30, 40, 50, 60, 70, 80, 90, 100, 110, None], 'min_samples_split': [2, 5, 10, 15, 20], 'min_samples_leaf': [1]}\n"
     ]
    }
   ],
   "source": [
    "# Create the random grid\n",
    "random_grid = {'n_estimators': n_estimators,\n",
    "               'max_features': max_features,\n",
    "               'max_depth': max_depth,\n",
    "               'min_samples_split': min_samples_split,\n",
    "               'min_samples_leaf': min_samples_leaf,\n",
    "               'min_samples_leaf':[1]\n",
    "               }\n",
    "print(random_grid)"
   ]
  },
  {
   "cell_type": "code",
   "execution_count": 185,
   "metadata": {},
   "outputs": [],
   "source": [
    "rf_random = RandomizedSearchCV(estimator = rf_model, \n",
    "                               param_distributions = random_grid, n_iter = 10, cv = 3, \n",
    "                               verbose=2, random_state=42, n_jobs = -1)"
   ]
  },
  {
   "cell_type": "code",
   "execution_count": 186,
   "metadata": {},
   "outputs": [
    {
     "name": "stdout",
     "output_type": "stream",
     "text": [
      "Fitting 3 folds for each of 10 candidates, totalling 30 fits\n"
     ]
    },
    {
     "data": {
      "text/plain": [
       "RandomizedSearchCV(cv=3, estimator=RandomForestClassifier(random_state=1),\n",
       "                   n_jobs=-1,\n",
       "                   param_distributions={'max_depth': [10, 20, 30, 40, 50, 60,\n",
       "                                                      70, 80, 90, 100, 110,\n",
       "                                                      None],\n",
       "                                        'max_features': ['auto', 'sqrt'],\n",
       "                                        'min_samples_leaf': [1],\n",
       "                                        'min_samples_split': [2, 5, 10, 15, 20],\n",
       "                                        'n_estimators': [200, 400, 600, 800,\n",
       "                                                         1000, 1200, 1400, 1600,\n",
       "                                                         1800, 2000]},\n",
       "                   random_state=42, verbose=2)"
      ]
     },
     "execution_count": 186,
     "metadata": {},
     "output_type": "execute_result"
    }
   ],
   "source": [
    "rf_random.fit(X_train,y_train)"
   ]
  },
  {
   "cell_type": "code",
   "execution_count": 187,
   "metadata": {},
   "outputs": [
    {
     "data": {
      "text/plain": [
       "{'n_estimators': 200,\n",
       " 'min_samples_split': 5,\n",
       " 'min_samples_leaf': 1,\n",
       " 'max_features': 'sqrt',\n",
       " 'max_depth': 90}"
      ]
     },
     "execution_count": 187,
     "metadata": {},
     "output_type": "execute_result"
    }
   ],
   "source": [
    "rf_random.best_params_"
   ]
  },
  {
   "cell_type": "code",
   "execution_count": 188,
   "metadata": {},
   "outputs": [],
   "source": [
    "rf_model_tuned = RandomForestClassifier(**best_params_)"
   ]
  },
  {
   "cell_type": "code",
   "execution_count": 189,
   "metadata": {},
   "outputs": [
    {
     "data": {
      "text/plain": [
       "RandomForestClassifier(max_depth=90, max_features='sqrt', min_samples_split=5,\n",
       "                       n_estimators=200, random_state=1)"
      ]
     },
     "execution_count": 189,
     "metadata": {},
     "output_type": "execute_result"
    }
   ],
   "source": [
    "rf_model_tuned.fit(X_train,y_train)"
   ]
  },
  {
   "cell_type": "code",
   "execution_count": 190,
   "metadata": {},
   "outputs": [],
   "source": [
    "y_pred = rf_model_tuned.predict(X_test)"
   ]
  },
  {
   "cell_type": "code",
   "execution_count": 191,
   "metadata": {},
   "outputs": [
    {
     "name": "stdout",
     "output_type": "stream",
     "text": [
      "              precision    recall  f1-score   support\n",
      "\n",
      "           0       0.82      0.88      0.85       877\n",
      "           1       0.94      0.91      0.93      1688\n",
      "           2       1.00      1.00      1.00        31\n",
      "           3       1.00      1.00      1.00        30\n",
      "           4       0.93      0.73      0.82        70\n",
      "\n",
      "    accuracy                           0.90      2696\n",
      "   macro avg       0.94      0.90      0.92      2696\n",
      "weighted avg       0.90      0.90      0.90      2696\n",
      "\n"
     ]
    }
   ],
   "source": [
    "print(classification_report(y_test,y_pred))"
   ]
  },
  {
   "cell_type": "code",
   "execution_count": 192,
   "metadata": {},
   "outputs": [],
   "source": [
    "from sklearn.model_selection import GridSearchCV"
   ]
  },
  {
   "cell_type": "code",
   "execution_count": 196,
   "metadata": {},
   "outputs": [],
   "source": [
    "# Create the parameter grid based on the results of random search \n",
    "param_grid = {\n",
    "    'max_depth': [50,100,150,None],\n",
    "    'min_samples_leaf': [3, 4, 5],\n",
    "    'min_samples_split': [2,4,5,6],\n",
    "    'n_estimators': [50,100,150,200]\n",
    "}\n",
    "\n",
    "grid_search = GridSearchCV(estimator = rf_model, param_grid = param_grid, \n",
    "                          cv = 3, n_jobs = -1, verbose = 2)"
   ]
  },
  {
   "cell_type": "code",
   "execution_count": 197,
   "metadata": {},
   "outputs": [
    {
     "data": {
      "text/plain": [
       "576"
      ]
     },
     "execution_count": 197,
     "metadata": {},
     "output_type": "execute_result"
    }
   ],
   "source": [
    "4*3*4*4*3"
   ]
  },
  {
   "cell_type": "code",
   "execution_count": 198,
   "metadata": {},
   "outputs": [
    {
     "name": "stdout",
     "output_type": "stream",
     "text": [
      "Fitting 3 folds for each of 192 candidates, totalling 576 fits\n"
     ]
    },
    {
     "data": {
      "text/plain": [
       "GridSearchCV(cv=3, estimator=RandomForestClassifier(random_state=1), n_jobs=-1,\n",
       "             param_grid={'max_depth': [50, 100, 150, None],\n",
       "                         'min_samples_leaf': [3, 4, 5],\n",
       "                         'min_samples_split': [2, 4, 5, 6],\n",
       "                         'n_estimators': [50, 100, 150, 200]},\n",
       "             verbose=2)"
      ]
     },
     "execution_count": 198,
     "metadata": {},
     "output_type": "execute_result"
    }
   ],
   "source": [
    "grid_search.fit(X_train,y_train)"
   ]
  },
  {
   "cell_type": "code",
   "execution_count": 199,
   "metadata": {},
   "outputs": [
    {
     "data": {
      "text/plain": [
       "{'max_depth': 50,\n",
       " 'min_samples_leaf': 3,\n",
       " 'min_samples_split': 2,\n",
       " 'n_estimators': 150}"
      ]
     },
     "execution_count": 199,
     "metadata": {},
     "output_type": "execute_result"
    }
   ],
   "source": [
    "grid_search.best_params_"
   ]
  },
  {
   "cell_type": "code",
   "execution_count": 200,
   "metadata": {},
   "outputs": [],
   "source": [
    "rf_grid_tuned = RandomForestClassifier(**grid_search.best_params_)"
   ]
  },
  {
   "cell_type": "code",
   "execution_count": 201,
   "metadata": {},
   "outputs": [
    {
     "data": {
      "text/plain": [
       "RandomForestClassifier(max_depth=50, min_samples_leaf=3, n_estimators=150)"
      ]
     },
     "execution_count": 201,
     "metadata": {},
     "output_type": "execute_result"
    }
   ],
   "source": [
    "rf_grid_tuned.fit(X_train,y_train)"
   ]
  },
  {
   "cell_type": "code",
   "execution_count": 202,
   "metadata": {},
   "outputs": [],
   "source": [
    "y_pred = rf_grid_tuned.predict(X_test)"
   ]
  },
  {
   "cell_type": "code",
   "execution_count": 203,
   "metadata": {},
   "outputs": [
    {
     "name": "stdout",
     "output_type": "stream",
     "text": [
      "              precision    recall  f1-score   support\n",
      "\n",
      "           0       0.81      0.87      0.84       877\n",
      "           1       0.93      0.91      0.92      1688\n",
      "           2       1.00      1.00      1.00        31\n",
      "           3       1.00      1.00      1.00        30\n",
      "           4       0.91      0.60      0.72        70\n",
      "\n",
      "    accuracy                           0.89      2696\n",
      "   macro avg       0.93      0.88      0.90      2696\n",
      "weighted avg       0.89      0.89      0.89      2696\n",
      "\n"
     ]
    }
   ],
   "source": [
    "print(classification_report(y_test,y_pred))"
   ]
  },
  {
   "cell_type": "code",
   "execution_count": 47,
   "metadata": {},
   "outputs": [],
   "source": [
    "# Hyper paramater tuning using hyper opt"
   ]
  },
  {
   "cell_type": "code",
   "execution_count": 204,
   "metadata": {},
   "outputs": [],
   "source": [
    "from hyperopt import hp,fmin,tpe,Trials"
   ]
  },
  {
   "cell_type": "code",
   "execution_count": 205,
   "metadata": {},
   "outputs": [],
   "source": [
    "# Create the parameter grid based on the results of random search \n",
    "param_grid_space ={'max_depth': hp.quniform(\"max_depth\", 3, 18, 1),\n",
    "        'gamma': hp.uniform ('gamma', 1,9),\n",
    "        'reg_alpha' : hp.quniform('reg_alpha', 40,180,1),\n",
    "        'reg_lambda' : hp.uniform('reg_lambda', 0,1),\n",
    "        'colsample_bytree' : hp.uniform('colsample_bytree', 0.5,1),\n",
    "        'min_child_weight' : hp.quniform('min_child_weight', 0, 10, 1),\n",
    "        'n_estimators': 180\n",
    "    }"
   ]
  },
  {
   "cell_type": "code",
   "execution_count": 206,
   "metadata": {},
   "outputs": [],
   "source": [
    "def optimize(param_grid_space):\n",
    "    X_train,y_train,X_test,y_test\n",
    "    xgbm = XGBClassifier(n_estimators =param_grid_space['n_estimators'], max_depth = int(param_grid_space['max_depth']),\n",
    "                         gamma = param_grid_space['gamma']\n",
    "                        )\n",
    "    xgbm.fit(X_train, y_train)\n",
    "    y_pred = xgbm.predict(X_test)\n",
    "    f1score = metrics.f1_score(y_test,y_pred,average=\"macro\")\n",
    "    return -1*f1score"
   ]
  },
  {
   "cell_type": "code",
   "execution_count": 207,
   "metadata": {},
   "outputs": [
    {
     "name": "stdout",
     "output_type": "stream",
     "text": [
      "[16:49:43] WARNING: C:/Users/Administrator/workspace/xgboost-win64_release_1.4.0/src/learner.cc:1095: Starting in XGBoost 1.3.0, the default evaluation metric used with the objective 'multi:softprob' was changed from 'merror' to 'mlogloss'. Explicitly set eval_metric if you'd like to restore the old behavior.\n",
      "  0%|                                                                            | 0/3 [00:00<?, ?trial/s, best loss=?]"
     ]
    },
    {
     "name": "stderr",
     "output_type": "stream",
     "text": [
      "C:\\Users\\Stanley\\anaconda3\\envs\\projectpro\\lib\\site-packages\\xgboost\\sklearn.py:1146: UserWarning: The use of label encoder in XGBClassifier is deprecated and will be removed in a future release. To remove this warning, do the following: 1) Pass option use_label_encoder=False when constructing XGBClassifier object; and 2) Encode your labels (y) as integers starting with 0, i.e. 0, 1, 2, ..., [num_class - 1].\n",
      "  warnings.warn(label_encoder_deprecation_msg, UserWarning)\n",
      "\n"
     ]
    },
    {
     "name": "stdout",
     "output_type": "stream",
     "text": [
      " 33%|████████████████▎                                | 1/3 [00:15<00:31, 15.61s/trial, best loss: -0.8665385724510548]"
     ]
    },
    {
     "name": "stderr",
     "output_type": "stream",
     "text": [
      "C:\\Users\\Stanley\\anaconda3\\envs\\projectpro\\lib\\site-packages\\xgboost\\sklearn.py:1146: UserWarning: The use of label encoder in XGBClassifier is deprecated and will be removed in a future release. To remove this warning, do the following: 1) Pass option use_label_encoder=False when constructing XGBClassifier object; and 2) Encode your labels (y) as integers starting with 0, i.e. 0, 1, 2, ..., [num_class - 1].\n",
      "  warnings.warn(label_encoder_deprecation_msg, UserWarning)\n",
      "\n"
     ]
    },
    {
     "name": "stdout",
     "output_type": "stream",
     "text": [
      "[16:49:58] WARNING: C:/Users/Administrator/workspace/xgboost-win64_release_1.4.0/src/learner.cc:1095: Starting in XGBoost 1.3.0, the default evaluation metric used with the objective 'multi:softprob' was changed from 'merror' to 'mlogloss'. Explicitly set eval_metric if you'd like to restore the old behavior.\n",
      "[16:50:24] WARNING: C:/Users/Administrator/workspace/xgboost-win64_release_1.4.0/src/learner.cc:1095: Starting in XGBoost 1.3.0, the default evaluation metric used with the objective 'multi:softprob' was changed from 'merror' to 'mlogloss'. Explicitly set eval_metric if you'd like to restore the old behavior.\n",
      " 67%|████████████████████████████████▋                | 2/3 [00:41<00:21, 21.80s/trial, best loss: -0.8909281513947311]"
     ]
    },
    {
     "name": "stderr",
     "output_type": "stream",
     "text": [
      "C:\\Users\\Stanley\\anaconda3\\envs\\projectpro\\lib\\site-packages\\xgboost\\sklearn.py:1146: UserWarning: The use of label encoder in XGBClassifier is deprecated and will be removed in a future release. To remove this warning, do the following: 1) Pass option use_label_encoder=False when constructing XGBClassifier object; and 2) Encode your labels (y) as integers starting with 0, i.e. 0, 1, 2, ..., [num_class - 1].\n",
      "  warnings.warn(label_encoder_deprecation_msg, UserWarning)\n",
      "\n"
     ]
    },
    {
     "name": "stdout",
     "output_type": "stream",
     "text": [
      "100%|█████████████████████████████████████████████████| 3/3 [00:51<00:00, 17.27s/trial, best loss: -0.8909281513947311]\n"
     ]
    }
   ],
   "source": [
    "trial = Trials()\n",
    "result = fmin(fn=optimize,space=param_grid_space,max_evals=3,trials=trial,algo=tpe.suggest)\n"
   ]
  },
  {
   "cell_type": "code",
   "execution_count": 208,
   "metadata": {},
   "outputs": [
    {
     "name": "stdout",
     "output_type": "stream",
     "text": [
      "{'colsample_bytree': 0.8276876468031019, 'gamma': 5.758469801098624, 'max_depth': 7.0, 'min_child_weight': 2.0, 'reg_alpha': 95.0, 'reg_lambda': 0.08138061941029084}\n"
     ]
    }
   ],
   "source": [
    "print(result)"
   ]
  },
  {
   "cell_type": "code",
   "execution_count": 209,
   "metadata": {},
   "outputs": [],
   "source": [
    "result[\"max_depth\"] = int(result[\"max_depth\"])"
   ]
  },
  {
   "cell_type": "code",
   "execution_count": 210,
   "metadata": {},
   "outputs": [
    {
     "name": "stderr",
     "output_type": "stream",
     "text": [
      "C:\\Users\\Stanley\\anaconda3\\envs\\projectpro\\lib\\site-packages\\xgboost\\sklearn.py:1146: UserWarning: The use of label encoder in XGBClassifier is deprecated and will be removed in a future release. To remove this warning, do the following: 1) Pass option use_label_encoder=False when constructing XGBClassifier object; and 2) Encode your labels (y) as integers starting with 0, i.e. 0, 1, 2, ..., [num_class - 1].\n",
      "  warnings.warn(label_encoder_deprecation_msg, UserWarning)\n"
     ]
    },
    {
     "name": "stdout",
     "output_type": "stream",
     "text": [
      "[16:51:19] WARNING: C:/Users/Administrator/workspace/xgboost-win64_release_1.4.0/src/learner.cc:1095: Starting in XGBoost 1.3.0, the default evaluation metric used with the objective 'multi:softprob' was changed from 'merror' to 'mlogloss'. Explicitly set eval_metric if you'd like to restore the old behavior.\n"
     ]
    },
    {
     "data": {
      "text/plain": [
       "XGBClassifier(base_score=0.5, booster='gbtree', colsample_bylevel=1,\n",
       "              colsample_bynode=1, colsample_bytree=0.8276876468031019,\n",
       "              gamma=5.758469801098624, gpu_id=-1, importance_type='gain',\n",
       "              interaction_constraints='', learning_rate=0.300000012,\n",
       "              max_delta_step=0, max_depth=7, min_child_weight=2.0, missing=nan,\n",
       "              monotone_constraints='()', n_estimators=100, n_jobs=4,\n",
       "              num_parallel_tree=1, objective='multi:softprob', random_state=0,\n",
       "              reg_alpha=95.0, reg_lambda=0.08138061941029084,\n",
       "              scale_pos_weight=None, subsample=1, tree_method='exact',\n",
       "              validate_parameters=1, verbosity=None)"
      ]
     },
     "execution_count": 210,
     "metadata": {},
     "output_type": "execute_result"
    }
   ],
   "source": [
    "xg_model = XGBClassifier(**result)\n",
    "xg_model.fit(X_train, y_train)"
   ]
  },
  {
   "cell_type": "code",
   "execution_count": 211,
   "metadata": {},
   "outputs": [],
   "source": [
    "y_pred = xg_model.predict(X_test)"
   ]
  },
  {
   "cell_type": "code",
   "execution_count": 212,
   "metadata": {},
   "outputs": [
    {
     "name": "stdout",
     "output_type": "stream",
     "text": [
      "              precision    recall  f1-score   support\n",
      "\n",
      "           0       0.77      0.84      0.80       877\n",
      "           1       0.92      0.90      0.91      1688\n",
      "           2       1.00      1.00      1.00        31\n",
      "           3       1.00      0.67      0.80        30\n",
      "           4       0.82      0.33      0.47        70\n",
      "\n",
      "    accuracy                           0.86      2696\n",
      "   macro avg       0.90      0.75      0.80      2696\n",
      "weighted avg       0.87      0.86      0.86      2696\n",
      "\n"
     ]
    }
   ],
   "source": [
    "print(classification_report(y_test,y_pred))"
   ]
  },
  {
   "cell_type": "code",
   "execution_count": null,
   "metadata": {},
   "outputs": [],
   "source": []
  }
 ],
 "metadata": {
  "kernelspec": {
   "display_name": "Python 3 (ipykernel)",
   "language": "python",
   "name": "python3"
  },
  "language_info": {
   "codemirror_mode": {
    "name": "ipython",
    "version": 3
   },
   "file_extension": ".py",
   "mimetype": "text/x-python",
   "name": "python",
   "nbconvert_exporter": "python",
   "pygments_lexer": "ipython3",
   "version": "3.9.12"
  }
 },
 "nbformat": 4,
 "nbformat_minor": 4
}
