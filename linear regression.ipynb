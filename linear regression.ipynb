{
 "cells": [
  {
   "cell_type": "code",
   "execution_count": 1,
   "metadata": {},
   "outputs": [
    {
     "data": {
      "text/plain": [
       "'\\n!pip install numpy==1.21.2\\n!pip install seaborn==0.11.1\\n!pip install matplotlib==3.4.3\\n!pip install statsmodels==0.12.2\\n!pip install pandas==1.2.4\\n!pip install scipy==1.6.3\\n!pip install scikit_learn==0.24.2\\n'"
      ]
     },
     "execution_count": 1,
     "metadata": {},
     "output_type": "execute_result"
    }
   ],
   "source": [
    "#required packages with versions\n",
    "\"\"\"\n",
    "!pip install numpy==1.21.2\n",
    "!pip install seaborn==0.11.1\n",
    "!pip install matplotlib==3.4.3\n",
    "!pip install statsmodels==0.12.2\n",
    "!pip install pandas==1.2.4\n",
    "!pip install scipy==1.6.3\n",
    "!pip install scikit_learn==0.24.2\n",
    "\"\"\""
   ]
  },
  {
   "cell_type": "code",
   "execution_count": 2,
   "metadata": {},
   "outputs": [
    {
     "name": "stdout",
     "output_type": "stream",
     "text": [
      "Collecting mlfoundry\n",
      "  Downloading mlfoundry-0.4.8-py3-none-any.whl (127 kB)\n",
      "Collecting coolname<2.0.0,>=1.1.0\n",
      "  Downloading coolname-1.1.0-py2.py3-none-any.whl (35 kB)\n",
      "Collecting pyarrow<9.0.0,>=5.0.0\n",
      "  Downloading pyarrow-8.0.0-cp39-cp39-win_amd64.whl (17.9 MB)\n",
      "Requirement already satisfied: scipy<2.0.0,>=1.5.4 in c:\\users\\ranbi\\anaconda3\\lib\\site-packages (from mlfoundry) (1.7.3)\n",
      "Collecting tinynetrc<2.0.0,>=1.3.1\n",
      "  Downloading tinynetrc-1.3.1-py2.py3-none-any.whl (3.9 kB)\n",
      "Requirement already satisfied: numpy<2.0.0,>=1.17.0 in c:\\users\\ranbi\\anaconda3\\lib\\site-packages (from mlfoundry) (1.21.5)\n",
      "Collecting fastparquet<0.8.0,>=0.7.2\n",
      "  Downloading fastparquet-0.7.2-cp39-cp39-win_amd64.whl (576 kB)\n",
      "Collecting pydantic<2.0.0,>=1.8.2\n",
      "  Downloading pydantic-1.10.2-cp39-cp39-win_amd64.whl (2.1 MB)\n",
      "Collecting psutil<6.0.0,>=5.9.0\n",
      "  Downloading psutil-5.9.2-cp39-cp39-win_amd64.whl (245 kB)\n",
      "Requirement already satisfied: pandas<2.0.0,>=1.0.0 in c:\\users\\ranbi\\anaconda3\\lib\\site-packages (from mlfoundry) (1.4.2)\n",
      "Collecting whylogs<0.7.0,>=0.6.15\n",
      "  Downloading whylogs-0.6.30-py3-none-any.whl (2.1 MB)\n",
      "Collecting tfy-mlflow-client==0.0.17\n",
      "  Downloading tfy_mlflow_client-0.0.17-py3-none-any.whl (3.4 MB)\n",
      "Requirement already satisfied: packaging<22.0,>=21.3 in c:\\users\\ranbi\\anaconda3\\lib\\site-packages (from mlfoundry) (21.3)\n",
      "Collecting amplitude-tracker<0.0.8,>=0.0.7\n",
      "  Downloading amplitude_tracker-0.0.7-py2.py3-none-any.whl (15 kB)\n",
      "Collecting GitPython<4.0.0,>=3.1.26\n",
      "  Downloading GitPython-3.1.28-py3-none-any.whl (182 kB)\n",
      "Requirement already satisfied: boto3<2.0.0,>=1.14.1 in c:\\users\\ranbi\\anaconda3\\lib\\site-packages (from mlfoundry) (1.21.32)\n",
      "Requirement already satisfied: scikit-learn<2.0.0,>=0.24.2 in c:\\users\\ranbi\\anaconda3\\lib\\site-packages (from mlfoundry) (1.0.2)\n",
      "Requirement already satisfied: importlib-metadata<5.0.0,>=4.11.3 in c:\\users\\ranbi\\anaconda3\\lib\\site-packages (from mlfoundry) (4.11.3)\n",
      "Collecting sqlparse>=0.3.1\n",
      "  Downloading sqlparse-0.4.3-py3-none-any.whl (42 kB)\n",
      "Requirement already satisfied: requests>=2.17.3 in c:\\users\\ranbi\\anaconda3\\lib\\site-packages (from tfy-mlflow-client==0.0.17->mlfoundry) (2.27.1)\n",
      "Requirement already satisfied: protobuf<5.0,>=3.12 in c:\\users\\ranbi\\anaconda3\\lib\\site-packages (from tfy-mlflow-client==0.0.17->mlfoundry) (3.19.1)\n",
      "Requirement already satisfied: pytz in c:\\users\\ranbi\\anaconda3\\lib\\site-packages (from tfy-mlflow-client==0.0.17->mlfoundry) (2021.3)\n",
      "Requirement already satisfied: click>=7.0 in c:\\users\\ranbi\\anaconda3\\lib\\site-packages (from tfy-mlflow-client==0.0.17->mlfoundry) (8.0.4)\n",
      "Requirement already satisfied: cloudpickle in c:\\users\\ranbi\\anaconda3\\lib\\site-packages (from tfy-mlflow-client==0.0.17->mlfoundry) (2.0.0)\n",
      "Collecting databricks-cli>=0.8.7\n",
      "  Downloading databricks-cli-0.17.3.tar.gz (77 kB)\n",
      "Requirement already satisfied: entrypoints in c:\\users\\ranbi\\anaconda3\\lib\\site-packages (from tfy-mlflow-client==0.0.17->mlfoundry) (0.4)\n",
      "Requirement already satisfied: pyyaml>=5.1 in c:\\users\\ranbi\\anaconda3\\lib\\site-packages (from tfy-mlflow-client==0.0.17->mlfoundry) (6.0)\n",
      "Collecting monotonic>=1.5\n",
      "  Downloading monotonic-1.6-py2.py3-none-any.whl (8.2 kB)\n",
      "Collecting backoff==1.10.0\n",
      "  Downloading backoff-1.10.0-py2.py3-none-any.whl (31 kB)\n",
      "Requirement already satisfied: six>=1.5 in c:\\users\\ranbi\\anaconda3\\lib\\site-packages (from amplitude-tracker<0.0.8,>=0.0.7->mlfoundry) (1.16.0)\n",
      "Requirement already satisfied: python-dateutil>2.1 in c:\\users\\ranbi\\anaconda3\\lib\\site-packages (from amplitude-tracker<0.0.8,>=0.0.7->mlfoundry) (2.8.2)\n",
      "Requirement already satisfied: s3transfer<0.6.0,>=0.5.0 in c:\\users\\ranbi\\anaconda3\\lib\\site-packages (from boto3<2.0.0,>=1.14.1->mlfoundry) (0.5.0)\n",
      "Requirement already satisfied: botocore<1.25.0,>=1.24.32 in c:\\users\\ranbi\\anaconda3\\lib\\site-packages (from boto3<2.0.0,>=1.14.1->mlfoundry) (1.24.32)\n",
      "Requirement already satisfied: jmespath<2.0.0,>=0.7.1 in c:\\users\\ranbi\\anaconda3\\lib\\site-packages (from boto3<2.0.0,>=1.14.1->mlfoundry) (0.10.0)\n",
      "Requirement already satisfied: urllib3<1.27,>=1.25.4 in c:\\users\\ranbi\\anaconda3\\lib\\site-packages (from botocore<1.25.0,>=1.24.32->boto3<2.0.0,>=1.14.1->mlfoundry) (1.26.9)\n",
      "Requirement already satisfied: colorama in c:\\users\\ranbi\\anaconda3\\lib\\site-packages (from click>=7.0->tfy-mlflow-client==0.0.17->mlfoundry) (0.4.4)\n",
      "Requirement already satisfied: pyjwt>=1.7.0 in c:\\users\\ranbi\\anaconda3\\lib\\site-packages (from databricks-cli>=0.8.7->tfy-mlflow-client==0.0.17->mlfoundry) (2.1.0)\n",
      "Requirement already satisfied: oauthlib>=3.1.0 in c:\\users\\ranbi\\anaconda3\\lib\\site-packages (from databricks-cli>=0.8.7->tfy-mlflow-client==0.0.17->mlfoundry) (3.2.0)\n",
      "Requirement already satisfied: tabulate>=0.7.7 in c:\\users\\ranbi\\anaconda3\\lib\\site-packages (from databricks-cli>=0.8.7->tfy-mlflow-client==0.0.17->mlfoundry) (0.8.9)\n",
      "Requirement already satisfied: fsspec in c:\\users\\ranbi\\anaconda3\\lib\\site-packages (from fastparquet<0.8.0,>=0.7.2->mlfoundry) (2022.2.0)\n",
      "Collecting thrift>=0.11.0\n",
      "  Downloading thrift-0.16.0.tar.gz (59 kB)\n",
      "Collecting cramjam>=2.3.0\n",
      "  Downloading cramjam-2.5.0-cp39-none-win_amd64.whl (993 kB)\n",
      "Collecting gitdb<5,>=4.0.1\n",
      "  Downloading gitdb-4.0.9-py3-none-any.whl (63 kB)\n",
      "Collecting smmap<6,>=3.0.1\n",
      "  Downloading smmap-5.0.0-py3-none-any.whl (24 kB)\n",
      "Requirement already satisfied: zipp>=0.5 in c:\\users\\ranbi\\anaconda3\\lib\\site-packages (from importlib-metadata<5.0.0,>=4.11.3->mlfoundry) (3.7.0)\n",
      "Requirement already satisfied: pyparsing!=3.0.5,>=2.0.2 in c:\\users\\ranbi\\anaconda3\\lib\\site-packages (from packaging<22.0,>=21.3->mlfoundry) (3.0.4)\n",
      "Requirement already satisfied: typing-extensions>=4.1.0 in c:\\users\\ranbi\\anaconda3\\lib\\site-packages (from pydantic<2.0.0,>=1.8.2->mlfoundry) (4.1.1)"
     ]
    },
    {
     "name": "stderr",
     "output_type": "stream",
     "text": [
      "ERROR: pip's dependency resolver does not currently take into account all the packages that are installed. This behaviour is the source of the following dependency conflicts.\n",
      "spyder 5.1.5 requires pyqt5<5.13, which is not installed.\n",
      "spyder 5.1.5 requires pyqtwebengine<5.13, which is not installed.\n"
     ]
    },
    {
     "name": "stdout",
     "output_type": "stream",
     "text": [
      "\n",
      "Requirement already satisfied: charset-normalizer~=2.0.0 in c:\\users\\ranbi\\anaconda3\\lib\\site-packages (from requests>=2.17.3->tfy-mlflow-client==0.0.17->mlfoundry) (2.0.4)\n",
      "Requirement already satisfied: certifi>=2017.4.17 in c:\\users\\ranbi\\anaconda3\\lib\\site-packages (from requests>=2.17.3->tfy-mlflow-client==0.0.17->mlfoundry) (2021.10.8)\n",
      "Requirement already satisfied: idna<4,>=2.5 in c:\\users\\ranbi\\anaconda3\\lib\\site-packages (from requests>=2.17.3->tfy-mlflow-client==0.0.17->mlfoundry) (3.3)\n",
      "Requirement already satisfied: threadpoolctl>=2.0.0 in c:\\users\\ranbi\\anaconda3\\lib\\site-packages (from scikit-learn<2.0.0,>=0.24.2->mlfoundry) (2.2.0)\n",
      "Requirement already satisfied: joblib>=0.11 in c:\\users\\ranbi\\anaconda3\\lib\\site-packages (from scikit-learn<2.0.0,>=0.24.2->mlfoundry) (1.1.0)\n",
      "Collecting whylabs-datasketches>=2.2.0b1\n",
      "  Downloading whylabs_datasketches-2.2.0b1-cp39-cp39-win_amd64.whl (501 kB)\n",
      "Collecting marshmallow>=3.7.1\n",
      "  Downloading marshmallow-3.18.0-py3-none-any.whl (48 kB)\n",
      "Requirement already satisfied: jsonschema>=3.2.0 in c:\\users\\ranbi\\anaconda3\\lib\\site-packages (from whylogs<0.7.0,>=0.6.15->mlfoundry) (4.4.0)\n",
      "Requirement already satisfied: matplotlib<4.0.0,>=3.0.3 in c:\\users\\ranbi\\anaconda3\\lib\\site-packages (from whylogs<0.7.0,>=0.6.15->mlfoundry) (3.5.1)\n",
      "Collecting puremagic<2.0,>=1.10\n",
      "  Downloading puremagic-1.14-py3-none-any.whl (32 kB)\n",
      "Requirement already satisfied: smart-open>=4.1.2 in c:\\users\\ranbi\\anaconda3\\lib\\site-packages (from whylogs<0.7.0,>=0.6.15->mlfoundry) (5.1.0)\n",
      "Requirement already satisfied: tqdm<5.0.0,>=4.60.0 in c:\\users\\ranbi\\anaconda3\\lib\\site-packages (from whylogs<0.7.0,>=0.6.15->mlfoundry) (4.64.0)\n",
      "Collecting whylabs-client<0.4.0,>=0.3.0\n",
      "  Downloading whylabs_client-0.3.0-py3-none-any.whl (183 kB)\n",
      "Requirement already satisfied: pyrsistent!=0.17.0,!=0.17.1,!=0.17.2,>=0.14.0 in c:\\users\\ranbi\\anaconda3\\lib\\site-packages (from jsonschema>=3.2.0->whylogs<0.7.0,>=0.6.15->mlfoundry) (0.18.0)\n",
      "Requirement already satisfied: attrs>=17.4.0 in c:\\users\\ranbi\\anaconda3\\lib\\site-packages (from jsonschema>=3.2.0->whylogs<0.7.0,>=0.6.15->mlfoundry) (21.4.0)\n",
      "Requirement already satisfied: cycler>=0.10 in c:\\users\\ranbi\\anaconda3\\lib\\site-packages (from matplotlib<4.0.0,>=3.0.3->whylogs<0.7.0,>=0.6.15->mlfoundry) (0.11.0)\n",
      "Requirement already satisfied: kiwisolver>=1.0.1 in c:\\users\\ranbi\\anaconda3\\lib\\site-packages (from matplotlib<4.0.0,>=3.0.3->whylogs<0.7.0,>=0.6.15->mlfoundry) (1.3.2)\n",
      "Requirement already satisfied: pillow>=6.2.0 in c:\\users\\ranbi\\anaconda3\\lib\\site-packages (from matplotlib<4.0.0,>=3.0.3->whylogs<0.7.0,>=0.6.15->mlfoundry) (9.0.1)\n",
      "Requirement already satisfied: fonttools>=4.22.0 in c:\\users\\ranbi\\anaconda3\\lib\\site-packages (from matplotlib<4.0.0,>=3.0.3->whylogs<0.7.0,>=0.6.15->mlfoundry) (4.25.0)\n",
      "Building wheels for collected packages: databricks-cli, thrift\n",
      "  Building wheel for databricks-cli (setup.py): started\n",
      "  Building wheel for databricks-cli (setup.py): finished with status 'done'\n",
      "  Created wheel for databricks-cli: filename=databricks_cli-0.17.3-py3-none-any.whl size=139099 sha256=0fabaa31f47a9c80193d94ed0cfcbb7b6f38886bb153c1169a5773aa2329ff87\n",
      "  Stored in directory: c:\\users\\ranbi\\appdata\\local\\pip\\cache\\wheels\\7b\\ef\\c5\\85718fa9e66dec117e42d8b4d7b8a2e40ebdec17232935615f\n",
      "  Building wheel for thrift (setup.py): started\n",
      "  Building wheel for thrift (setup.py): finished with status 'done'\n",
      "  Created wheel for thrift: filename=thrift-0.16.0-py3-none-any.whl size=156001 sha256=c3b4edcc6f455dd78f7eaa58376d56862425a0927b8c08469981f54be2754d35\n",
      "  Stored in directory: c:\\users\\ranbi\\appdata\\local\\pip\\cache\\wheels\\67\\b1\\a4\\cf8b927fdbee8e55234f1f421b531685b960e5f23b6273cfcf\n",
      "Successfully built databricks-cli thrift\n",
      "Installing collected packages: smmap, gitdb, whylabs-datasketches, whylabs-client, thrift, sqlparse, puremagic, monotonic, marshmallow, GitPython, databricks-cli, cramjam, backoff, whylogs, tinynetrc, tfy-mlflow-client, pydantic, pyarrow, psutil, fastparquet, coolname, amplitude-tracker, mlfoundry\n",
      "  Attempting uninstall: psutil\n",
      "    Found existing installation: psutil 5.8.0\n",
      "    Uninstalling psutil-5.8.0:\n",
      "      Successfully uninstalled psutil-5.8.0\n",
      "Successfully installed GitPython-3.1.28 amplitude-tracker-0.0.7 backoff-1.10.0 coolname-1.1.0 cramjam-2.5.0 databricks-cli-0.17.3 fastparquet-0.7.2 gitdb-4.0.9 marshmallow-3.18.0 mlfoundry-0.4.8 monotonic-1.6 psutil-5.9.2 puremagic-1.14 pyarrow-8.0.0 pydantic-1.10.2 smmap-5.0.0 sqlparse-0.4.3 tfy-mlflow-client-0.0.17 thrift-0.16.0 tinynetrc-1.3.1 whylabs-client-0.3.0 whylabs-datasketches-2.2.0b1 whylogs-0.6.30\n"
     ]
    }
   ],
   "source": [
    "!pip install mlfoundry --upgrade"
   ]
  },
  {
   "cell_type": "code",
   "execution_count": 1,
   "metadata": {},
   "outputs": [
    {
     "data": {
      "text/plain": [
       "['EPL_Soccer_MLR_LR.csv']"
      ]
     },
     "execution_count": 1,
     "metadata": {},
     "output_type": "execute_result"
    }
   ],
   "source": [
    "from zipfile import ZipFile\n",
    "import urllib.request\n",
    "from io import BytesIO\n",
    "folder = urllib.request.urlopen('https://s3.amazonaws.com/projex.dezyre.com/fundamentals-simple-linear-regression-python-beginners/materials/data.zip')\n",
    "zipfile = ZipFile(BytesIO(folder.read()))\n",
    "zipfile.namelist()"
   ]
  },
  {
   "cell_type": "code",
   "execution_count": 2,
   "metadata": {},
   "outputs": [
    {
     "data": {
      "text/html": [
       "<div>\n",
       "<style scoped>\n",
       "    .dataframe tbody tr th:only-of-type {\n",
       "        vertical-align: middle;\n",
       "    }\n",
       "\n",
       "    .dataframe tbody tr th {\n",
       "        vertical-align: top;\n",
       "    }\n",
       "\n",
       "    .dataframe thead th {\n",
       "        text-align: right;\n",
       "    }\n",
       "</style>\n",
       "<table border=\"1\" class=\"dataframe\">\n",
       "  <thead>\n",
       "    <tr style=\"text-align: right;\">\n",
       "      <th></th>\n",
       "      <th>DistanceCovered(InKms)</th>\n",
       "      <th>Goals</th>\n",
       "      <th>MinutestoGoalRatio</th>\n",
       "      <th>ShotsPerGame</th>\n",
       "      <th>AgentCharges</th>\n",
       "      <th>BMI</th>\n",
       "      <th>Cost</th>\n",
       "      <th>PreviousClubCost</th>\n",
       "      <th>Height</th>\n",
       "      <th>Weight</th>\n",
       "      <th>Score</th>\n",
       "    </tr>\n",
       "  </thead>\n",
       "  <tbody>\n",
       "    <tr>\n",
       "      <th>count</th>\n",
       "      <td>202.000000</td>\n",
       "      <td>202.000000</td>\n",
       "      <td>202.000000</td>\n",
       "      <td>202.000000</td>\n",
       "      <td>202.000000</td>\n",
       "      <td>202.000000</td>\n",
       "      <td>202.000000</td>\n",
       "      <td>202.000000</td>\n",
       "      <td>202.000000</td>\n",
       "      <td>202.000000</td>\n",
       "      <td>202.000000</td>\n",
       "    </tr>\n",
       "    <tr>\n",
       "      <th>mean</th>\n",
       "      <td>4.718614</td>\n",
       "      <td>7.108663</td>\n",
       "      <td>43.091584</td>\n",
       "      <td>14.566337</td>\n",
       "      <td>76.876238</td>\n",
       "      <td>22.955891</td>\n",
       "      <td>69.021782</td>\n",
       "      <td>64.873713</td>\n",
       "      <td>180.103960</td>\n",
       "      <td>75.008168</td>\n",
       "      <td>13.507426</td>\n",
       "    </tr>\n",
       "    <tr>\n",
       "      <th>std</th>\n",
       "      <td>0.457976</td>\n",
       "      <td>1.800549</td>\n",
       "      <td>3.662989</td>\n",
       "      <td>1.362451</td>\n",
       "      <td>47.501239</td>\n",
       "      <td>2.863933</td>\n",
       "      <td>32.565333</td>\n",
       "      <td>13.070197</td>\n",
       "      <td>9.734494</td>\n",
       "      <td>13.925574</td>\n",
       "      <td>6.189826</td>\n",
       "    </tr>\n",
       "    <tr>\n",
       "      <th>min</th>\n",
       "      <td>3.800000</td>\n",
       "      <td>3.300000</td>\n",
       "      <td>35.900000</td>\n",
       "      <td>11.600000</td>\n",
       "      <td>8.000000</td>\n",
       "      <td>16.750000</td>\n",
       "      <td>28.000000</td>\n",
       "      <td>34.360000</td>\n",
       "      <td>148.900000</td>\n",
       "      <td>37.800000</td>\n",
       "      <td>5.630000</td>\n",
       "    </tr>\n",
       "    <tr>\n",
       "      <th>25%</th>\n",
       "      <td>4.372500</td>\n",
       "      <td>5.900000</td>\n",
       "      <td>40.600000</td>\n",
       "      <td>13.500000</td>\n",
       "      <td>41.250000</td>\n",
       "      <td>21.082500</td>\n",
       "      <td>43.850000</td>\n",
       "      <td>54.667500</td>\n",
       "      <td>174.000000</td>\n",
       "      <td>66.525000</td>\n",
       "      <td>8.545000</td>\n",
       "    </tr>\n",
       "    <tr>\n",
       "      <th>50%</th>\n",
       "      <td>4.755000</td>\n",
       "      <td>6.850000</td>\n",
       "      <td>43.500000</td>\n",
       "      <td>14.700000</td>\n",
       "      <td>65.500000</td>\n",
       "      <td>22.720000</td>\n",
       "      <td>58.600000</td>\n",
       "      <td>63.035000</td>\n",
       "      <td>179.700000</td>\n",
       "      <td>74.400000</td>\n",
       "      <td>11.650000</td>\n",
       "    </tr>\n",
       "    <tr>\n",
       "      <th>75%</th>\n",
       "      <td>5.030000</td>\n",
       "      <td>8.275000</td>\n",
       "      <td>45.575000</td>\n",
       "      <td>15.575000</td>\n",
       "      <td>97.000000</td>\n",
       "      <td>24.465000</td>\n",
       "      <td>90.350000</td>\n",
       "      <td>74.750000</td>\n",
       "      <td>186.175000</td>\n",
       "      <td>84.125000</td>\n",
       "      <td>18.080000</td>\n",
       "    </tr>\n",
       "    <tr>\n",
       "      <th>max</th>\n",
       "      <td>6.720000</td>\n",
       "      <td>14.300000</td>\n",
       "      <td>59.700000</td>\n",
       "      <td>19.200000</td>\n",
       "      <td>234.000000</td>\n",
       "      <td>34.420000</td>\n",
       "      <td>200.800000</td>\n",
       "      <td>106.000000</td>\n",
       "      <td>209.400000</td>\n",
       "      <td>123.200000</td>\n",
       "      <td>35.520000</td>\n",
       "    </tr>\n",
       "  </tbody>\n",
       "</table>\n",
       "</div>"
      ],
      "text/plain": [
       "       DistanceCovered(InKms)       Goals  MinutestoGoalRatio  ShotsPerGame  \\\n",
       "count              202.000000  202.000000          202.000000    202.000000   \n",
       "mean                 4.718614    7.108663           43.091584     14.566337   \n",
       "std                  0.457976    1.800549            3.662989      1.362451   \n",
       "min                  3.800000    3.300000           35.900000     11.600000   \n",
       "25%                  4.372500    5.900000           40.600000     13.500000   \n",
       "50%                  4.755000    6.850000           43.500000     14.700000   \n",
       "75%                  5.030000    8.275000           45.575000     15.575000   \n",
       "max                  6.720000   14.300000           59.700000     19.200000   \n",
       "\n",
       "       AgentCharges         BMI        Cost  PreviousClubCost      Height  \\\n",
       "count    202.000000  202.000000  202.000000        202.000000  202.000000   \n",
       "mean      76.876238   22.955891   69.021782         64.873713  180.103960   \n",
       "std       47.501239    2.863933   32.565333         13.070197    9.734494   \n",
       "min        8.000000   16.750000   28.000000         34.360000  148.900000   \n",
       "25%       41.250000   21.082500   43.850000         54.667500  174.000000   \n",
       "50%       65.500000   22.720000   58.600000         63.035000  179.700000   \n",
       "75%       97.000000   24.465000   90.350000         74.750000  186.175000   \n",
       "max      234.000000   34.420000  200.800000        106.000000  209.400000   \n",
       "\n",
       "           Weight       Score  \n",
       "count  202.000000  202.000000  \n",
       "mean    75.008168   13.507426  \n",
       "std     13.925574    6.189826  \n",
       "min     37.800000    5.630000  \n",
       "25%     66.525000    8.545000  \n",
       "50%     74.400000   11.650000  \n",
       "75%     84.125000   18.080000  \n",
       "max    123.200000   35.520000  "
      ]
     },
     "execution_count": 2,
     "metadata": {},
     "output_type": "execute_result"
    }
   ],
   "source": [
    "\n",
    "import pandas as pd\n",
    "import numpy as np\n",
    "import matplotlib.pyplot as plt\n",
    "from sklearn.model_selection import train_test_split\n",
    "import statsmodels.api as sm\n",
    "import seaborn as sns\n",
    "from scipy import stats\n",
    "import scipy\n",
    "from sklearn.metrics import accuracy_score, mean_absolute_error, r2_score, mean_squared_error\n",
    "\n",
    "\n",
    "df=pd.read_csv(zipfile.open('EPL_Soccer_MLR_LR.csv'))\n",
    "\n",
    "# Get basic description of the data, looking the spread of the different variables,\n",
    "# along with  abrupt changes between the minimum, 25th, 50th, 75th, and max for the different variables\n",
    "df.describe()\n"
   ]
  },
  {
   "cell_type": "code",
   "execution_count": 2,
   "metadata": {
    "pycharm": {
     "name": "#%%\n"
    }
   },
   "outputs": [
    {
     "name": "stdout",
     "output_type": "stream",
     "text": [
      "<class 'pandas.core.frame.DataFrame'>\n",
      "RangeIndex: 202 entries, 0 to 201\n",
      "Data columns (total 13 columns):\n",
      " #   Column                  Non-Null Count  Dtype  \n",
      "---  ------                  --------------  -----  \n",
      " 0   PlayerName              202 non-null    object \n",
      " 1   Club                    202 non-null    object \n",
      " 2   DistanceCovered(InKms)  202 non-null    float64\n",
      " 3   Goals                   202 non-null    float64\n",
      " 4   MinutestoGoalRatio      202 non-null    float64\n",
      " 5   ShotsPerGame            202 non-null    float64\n",
      " 6   AgentCharges            202 non-null    int64  \n",
      " 7   BMI                     202 non-null    float64\n",
      " 8   Cost                    202 non-null    float64\n",
      " 9   PreviousClubCost        202 non-null    float64\n",
      " 10  Height                  202 non-null    float64\n",
      " 11  Weight                  202 non-null    float64\n",
      " 12  Score                   202 non-null    float64\n",
      "dtypes: float64(10), int64(1), object(2)\n",
      "memory usage: 20.6+ KB\n"
     ]
    },
    {
     "data": {
      "text/html": [
       "<div>\n",
       "<style scoped>\n",
       "    .dataframe tbody tr th:only-of-type {\n",
       "        vertical-align: middle;\n",
       "    }\n",
       "\n",
       "    .dataframe tbody tr th {\n",
       "        vertical-align: top;\n",
       "    }\n",
       "\n",
       "    .dataframe thead th {\n",
       "        text-align: right;\n",
       "    }\n",
       "</style>\n",
       "<table border=\"1\" class=\"dataframe\">\n",
       "  <thead>\n",
       "    <tr style=\"text-align: right;\">\n",
       "      <th></th>\n",
       "      <th>DistanceCovered(InKms)</th>\n",
       "      <th>Goals</th>\n",
       "      <th>MinutestoGoalRatio</th>\n",
       "      <th>ShotsPerGame</th>\n",
       "      <th>AgentCharges</th>\n",
       "      <th>BMI</th>\n",
       "      <th>Cost</th>\n",
       "      <th>PreviousClubCost</th>\n",
       "      <th>Height</th>\n",
       "      <th>Weight</th>\n",
       "      <th>Score</th>\n",
       "    </tr>\n",
       "  </thead>\n",
       "  <tbody>\n",
       "    <tr>\n",
       "      <th>DistanceCovered(InKms)</th>\n",
       "      <td>1.000000</td>\n",
       "      <td>0.147098</td>\n",
       "      <td>0.924964</td>\n",
       "      <td>0.888800</td>\n",
       "      <td>0.250865</td>\n",
       "      <td>0.299471</td>\n",
       "      <td>-0.403004</td>\n",
       "      <td>0.550975</td>\n",
       "      <td>0.358854</td>\n",
       "      <td>0.403743</td>\n",
       "      <td>-0.493512</td>\n",
       "    </tr>\n",
       "    <tr>\n",
       "      <th>Goals</th>\n",
       "      <td>0.147098</td>\n",
       "      <td>1.000000</td>\n",
       "      <td>0.153333</td>\n",
       "      <td>0.134721</td>\n",
       "      <td>0.131973</td>\n",
       "      <td>0.177032</td>\n",
       "      <td>0.137131</td>\n",
       "      <td>0.102734</td>\n",
       "      <td>0.076958</td>\n",
       "      <td>0.155844</td>\n",
       "      <td>0.108114</td>\n",
       "    </tr>\n",
       "    <tr>\n",
       "      <th>MinutestoGoalRatio</th>\n",
       "      <td>0.924964</td>\n",
       "      <td>0.153333</td>\n",
       "      <td>1.000000</td>\n",
       "      <td>0.950757</td>\n",
       "      <td>0.258240</td>\n",
       "      <td>0.320527</td>\n",
       "      <td>-0.449135</td>\n",
       "      <td>0.583375</td>\n",
       "      <td>0.371192</td>\n",
       "      <td>0.423699</td>\n",
       "      <td>-0.532449</td>\n",
       "    </tr>\n",
       "    <tr>\n",
       "      <th>ShotsPerGame</th>\n",
       "      <td>0.888800</td>\n",
       "      <td>0.134721</td>\n",
       "      <td>0.950757</td>\n",
       "      <td>1.000000</td>\n",
       "      <td>0.308391</td>\n",
       "      <td>0.382524</td>\n",
       "      <td>-0.435429</td>\n",
       "      <td>0.610986</td>\n",
       "      <td>0.352322</td>\n",
       "      <td>0.455255</td>\n",
       "      <td>-0.531522</td>\n",
       "    </tr>\n",
       "    <tr>\n",
       "      <th>AgentCharges</th>\n",
       "      <td>0.250865</td>\n",
       "      <td>0.131973</td>\n",
       "      <td>0.258240</td>\n",
       "      <td>0.308391</td>\n",
       "      <td>1.000000</td>\n",
       "      <td>0.302556</td>\n",
       "      <td>-0.108243</td>\n",
       "      <td>0.317581</td>\n",
       "      <td>0.123255</td>\n",
       "      <td>0.273686</td>\n",
       "      <td>-0.183386</td>\n",
       "    </tr>\n",
       "    <tr>\n",
       "      <th>BMI</th>\n",
       "      <td>0.299471</td>\n",
       "      <td>0.177032</td>\n",
       "      <td>0.320527</td>\n",
       "      <td>0.382524</td>\n",
       "      <td>0.302556</td>\n",
       "      <td>1.000000</td>\n",
       "      <td>0.321116</td>\n",
       "      <td>0.713858</td>\n",
       "      <td>0.337097</td>\n",
       "      <td>0.845955</td>\n",
       "      <td>0.187558</td>\n",
       "    </tr>\n",
       "    <tr>\n",
       "      <th>Cost</th>\n",
       "      <td>-0.403004</td>\n",
       "      <td>0.137131</td>\n",
       "      <td>-0.449135</td>\n",
       "      <td>-0.435429</td>\n",
       "      <td>-0.108243</td>\n",
       "      <td>0.321116</td>\n",
       "      <td>1.000000</td>\n",
       "      <td>-0.207749</td>\n",
       "      <td>-0.071253</td>\n",
       "      <td>0.154227</td>\n",
       "      <td>0.963017</td>\n",
       "    </tr>\n",
       "    <tr>\n",
       "      <th>PreviousClubCost</th>\n",
       "      <td>0.550975</td>\n",
       "      <td>0.102734</td>\n",
       "      <td>0.583375</td>\n",
       "      <td>0.610986</td>\n",
       "      <td>0.317581</td>\n",
       "      <td>0.713858</td>\n",
       "      <td>-0.207749</td>\n",
       "      <td>1.000000</td>\n",
       "      <td>0.802119</td>\n",
       "      <td>0.930904</td>\n",
       "      <td>-0.361850</td>\n",
       "    </tr>\n",
       "    <tr>\n",
       "      <th>Height</th>\n",
       "      <td>0.358854</td>\n",
       "      <td>0.076958</td>\n",
       "      <td>0.371192</td>\n",
       "      <td>0.352322</td>\n",
       "      <td>0.123255</td>\n",
       "      <td>0.337097</td>\n",
       "      <td>-0.071253</td>\n",
       "      <td>0.802119</td>\n",
       "      <td>1.000000</td>\n",
       "      <td>0.780906</td>\n",
       "      <td>-0.188022</td>\n",
       "    </tr>\n",
       "    <tr>\n",
       "      <th>Weight</th>\n",
       "      <td>0.403743</td>\n",
       "      <td>0.155844</td>\n",
       "      <td>0.423699</td>\n",
       "      <td>0.455255</td>\n",
       "      <td>0.273686</td>\n",
       "      <td>0.845955</td>\n",
       "      <td>0.154227</td>\n",
       "      <td>0.930904</td>\n",
       "      <td>0.780906</td>\n",
       "      <td>1.000000</td>\n",
       "      <td>-0.000162</td>\n",
       "    </tr>\n",
       "    <tr>\n",
       "      <th>Score</th>\n",
       "      <td>-0.493512</td>\n",
       "      <td>0.108114</td>\n",
       "      <td>-0.532449</td>\n",
       "      <td>-0.531522</td>\n",
       "      <td>-0.183386</td>\n",
       "      <td>0.187558</td>\n",
       "      <td>0.963017</td>\n",
       "      <td>-0.361850</td>\n",
       "      <td>-0.188022</td>\n",
       "      <td>-0.000162</td>\n",
       "      <td>1.000000</td>\n",
       "    </tr>\n",
       "  </tbody>\n",
       "</table>\n",
       "</div>"
      ],
      "text/plain": [
       "                        DistanceCovered(InKms)     Goals  MinutestoGoalRatio  \\\n",
       "DistanceCovered(InKms)                1.000000  0.147098            0.924964   \n",
       "Goals                                 0.147098  1.000000            0.153333   \n",
       "MinutestoGoalRatio                    0.924964  0.153333            1.000000   \n",
       "ShotsPerGame                          0.888800  0.134721            0.950757   \n",
       "AgentCharges                          0.250865  0.131973            0.258240   \n",
       "BMI                                   0.299471  0.177032            0.320527   \n",
       "Cost                                 -0.403004  0.137131           -0.449135   \n",
       "PreviousClubCost                      0.550975  0.102734            0.583375   \n",
       "Height                                0.358854  0.076958            0.371192   \n",
       "Weight                                0.403743  0.155844            0.423699   \n",
       "Score                                -0.493512  0.108114           -0.532449   \n",
       "\n",
       "                        ShotsPerGame  AgentCharges       BMI      Cost  \\\n",
       "DistanceCovered(InKms)      0.888800      0.250865  0.299471 -0.403004   \n",
       "Goals                       0.134721      0.131973  0.177032  0.137131   \n",
       "MinutestoGoalRatio          0.950757      0.258240  0.320527 -0.449135   \n",
       "ShotsPerGame                1.000000      0.308391  0.382524 -0.435429   \n",
       "AgentCharges                0.308391      1.000000  0.302556 -0.108243   \n",
       "BMI                         0.382524      0.302556  1.000000  0.321116   \n",
       "Cost                       -0.435429     -0.108243  0.321116  1.000000   \n",
       "PreviousClubCost            0.610986      0.317581  0.713858 -0.207749   \n",
       "Height                      0.352322      0.123255  0.337097 -0.071253   \n",
       "Weight                      0.455255      0.273686  0.845955  0.154227   \n",
       "Score                      -0.531522     -0.183386  0.187558  0.963017   \n",
       "\n",
       "                        PreviousClubCost    Height    Weight     Score  \n",
       "DistanceCovered(InKms)          0.550975  0.358854  0.403743 -0.493512  \n",
       "Goals                           0.102734  0.076958  0.155844  0.108114  \n",
       "MinutestoGoalRatio              0.583375  0.371192  0.423699 -0.532449  \n",
       "ShotsPerGame                    0.610986  0.352322  0.455255 -0.531522  \n",
       "AgentCharges                    0.317581  0.123255  0.273686 -0.183386  \n",
       "BMI                             0.713858  0.337097  0.845955  0.187558  \n",
       "Cost                           -0.207749 -0.071253  0.154227  0.963017  \n",
       "PreviousClubCost                1.000000  0.802119  0.930904 -0.361850  \n",
       "Height                          0.802119  1.000000  0.780906 -0.188022  \n",
       "Weight                          0.930904  0.780906  1.000000 -0.000162  \n",
       "Score                          -0.361850 -0.188022 -0.000162  1.000000  "
      ]
     },
     "execution_count": 2,
     "metadata": {},
     "output_type": "execute_result"
    }
   ],
   "source": [
    "#Get info, look for missing values, get a sense of what format each variable is in\n",
    "\n",
    "\n",
    "df.info()\n",
    "\n",
    "df.corr()\n",
    "\n"
   ]
  },
  {
   "cell_type": "code",
   "execution_count": 3,
   "metadata": {
    "pycharm": {
     "name": "#%%\n"
    }
   },
   "outputs": [
    {
     "data": {
      "image/png": "[encoded data removed]",
      "text/plain": [
       "<Figure size 432x288 with 1 Axes>"
      ]
     },
     "metadata": {
      "needs_background": "light"
     },
     "output_type": "display_data"
    }
   ],
   "source": [
    "#Let's plot cost vs. score\n",
    "plt.scatter(df['Cost'], df['Score']);\n",
    "\n",
    "#Strong linear association between cost and score, maybe some concern with model\n",
    "# after a cost of 125 or so!\n"
   ]
  },
  {
   "cell_type": "code",
   "execution_count": 4,
   "metadata": {
    "pycharm": {
     "name": "#%%\n"
    }
   },
   "outputs": [],
   "source": [
    "#Assign x, y then do training testing split\n",
    "x=df['Cost']\n",
    "y=df['Score']\n",
    "\n",
    "#Splitting with 75% training, 25% testing data\n",
    "x_train, x_test, y_train, y_test = train_test_split(x, y, train_size = 0.75,\n",
    "                                                    test_size = 0.25, random_state = 100)"
   ]
  },
  {
   "cell_type": "code",
   "execution_count": 5,
   "metadata": {
    "pycharm": {
     "name": "#%%\n"
    }
   },
   "outputs": [
    {
     "data": {
      "text/html": [
       "<table class=\"simpletable\">\n",
       "<caption>OLS Regression Results</caption>\n",
       "<tr>\n",
       "  <th>Dep. Variable:</th>          <td>Score</td>      <th>  R-squared:         </th> <td>   0.930</td>\n",
       "</tr>\n",
       "<tr>\n",
       "  <th>Model:</th>                   <td>OLS</td>       <th>  Adj. R-squared:    </th> <td>   0.929</td>\n",
       "</tr>\n",
       "<tr>\n",
       "  <th>Method:</th>             <td>Least Squares</td>  <th>  F-statistic:       </th> <td>   1976.</td>\n",
       "</tr>\n",
       "<tr>\n",
       "  <th>Date:</th>             <td>Tue, 26 Jul 2022</td> <th>  Prob (F-statistic):</th> <td>6.91e-88</td>\n",
       "</tr>\n",
       "<tr>\n",
       "  <th>Time:</th>                 <td>11:54:41</td>     <th>  Log-Likelihood:    </th> <td> -293.23</td>\n",
       "</tr>\n",
       "<tr>\n",
       "  <th>No. Observations:</th>      <td>   151</td>      <th>  AIC:               </th> <td>   590.5</td>\n",
       "</tr>\n",
       "<tr>\n",
       "  <th>Df Residuals:</th>          <td>   149</td>      <th>  BIC:               </th> <td>   596.5</td>\n",
       "</tr>\n",
       "<tr>\n",
       "  <th>Df Model:</th>              <td>     1</td>      <th>                     </th>     <td> </td>   \n",
       "</tr>\n",
       "<tr>\n",
       "  <th>Covariance Type:</th>      <td>nonrobust</td>    <th>                     </th>     <td> </td>   \n",
       "</tr>\n",
       "</table>\n",
       "<table class=\"simpletable\">\n",
       "<tr>\n",
       "    <td></td>       <th>coef</th>     <th>std err</th>      <th>t</th>      <th>P>|t|</th>  <th>[0.025</th>    <th>0.975]</th>  \n",
       "</tr>\n",
       "<tr>\n",
       "  <th>const</th> <td>    0.9472</td> <td>    0.325</td> <td>    2.916</td> <td> 0.004</td> <td>    0.305</td> <td>    1.589</td>\n",
       "</tr>\n",
       "<tr>\n",
       "  <th>Cost</th>  <td>    0.1821</td> <td>    0.004</td> <td>   44.456</td> <td> 0.000</td> <td>    0.174</td> <td>    0.190</td>\n",
       "</tr>\n",
       "</table>\n",
       "<table class=\"simpletable\">\n",
       "<tr>\n",
       "  <th>Omnibus:</th>       <td> 3.849</td> <th>  Durbin-Watson:     </th> <td>   1.821</td>\n",
       "</tr>\n",
       "<tr>\n",
       "  <th>Prob(Omnibus):</th> <td> 0.146</td> <th>  Jarque-Bera (JB):  </th> <td>   3.867</td>\n",
       "</tr>\n",
       "<tr>\n",
       "  <th>Skew:</th>          <td> 0.359</td> <th>  Prob(JB):          </th> <td>   0.145</td>\n",
       "</tr>\n",
       "<tr>\n",
       "  <th>Kurtosis:</th>      <td> 2.685</td> <th>  Cond. No.          </th> <td>    186.</td>\n",
       "</tr>\n",
       "</table><br/><br/>Notes:<br/>[1] Standard Errors assume that the covariance matrix of the errors is correctly specified."
      ],
      "text/plain": [
       "<class 'statsmodels.iolib.summary.Summary'>\n",
       "\"\"\"\n",
       "                            OLS Regression Results                            \n",
       "==============================================================================\n",
       "Dep. Variable:                  Score   R-squared:                       0.930\n",
       "Model:                            OLS   Adj. R-squared:                  0.929\n",
       "Method:                 Least Squares   F-statistic:                     1976.\n",
       "Date:                Tue, 26 Jul 2022   Prob (F-statistic):           6.91e-88\n",
       "Time:                        11:54:41   Log-Likelihood:                -293.23\n",
       "No. Observations:                 151   AIC:                             590.5\n",
       "Df Residuals:                     149   BIC:                             596.5\n",
       "Df Model:                           1                                         \n",
       "Covariance Type:            nonrobust                                         \n",
       "==============================================================================\n",
       "                 coef    std err          t      P>|t|      [0.025      0.975]\n",
       "------------------------------------------------------------------------------\n",
       "const          0.9472      0.325      2.916      0.004       0.305       1.589\n",
       "Cost           0.1821      0.004     44.456      0.000       0.174       0.190\n",
       "==============================================================================\n",
       "Omnibus:                        3.849   Durbin-Watson:                   1.821\n",
       "Prob(Omnibus):                  0.146   Jarque-Bera (JB):                3.867\n",
       "Skew:                           0.359   Prob(JB):                        0.145\n",
       "Kurtosis:                       2.685   Cond. No.                         186.\n",
       "==============================================================================\n",
       "\n",
       "Notes:\n",
       "[1] Standard Errors assume that the covariance matrix of the errors is correctly specified.\n",
       "\"\"\""
      ]
     },
     "execution_count": 5,
     "metadata": {},
     "output_type": "execute_result"
    }
   ],
   "source": [
    "#statsmodel approach to regression\n",
    "# fit the model\n",
    "lr = sm.OLS(y_train, x_train).fit()\n",
    "\n",
    "# Printing the parameters\n",
    "lr.params\n",
    "lr.summary()\n",
    "\n",
    "#force intercept term\n",
    "x_train_with_intercept = sm.add_constant(x_train)\n",
    "lr = sm.OLS(y_train, x_train_with_intercept).fit()\n",
    "lr.summary()\n"
   ]
  },
  {
   "cell_type": "markdown",
   "metadata": {
    "pycharm": {
     "name": "#%%\n"
    }
   },
   "source": []
  },
  {
   "cell_type": "code",
   "execution_count": null,
   "metadata": {},
   "outputs": [
    {
     "name": "stdout",
     "output_type": "stream",
     "text": [
      "Please get your API key from https://projectpro.truefoundry.com/settings\n"
     ]
    }
   ],
   "source": [
    "import mlfoundry as mlf\n",
    "\n",
    "TRACKING_URL = 'https://projectpro.truefoundry.com'\n",
    "mlf_api = mlf.get_client(TRACKING_URL)\n",
    "\n",
    "mlf_run = mlf_api.create_run(project_name='linear-regression', run_name=\"reg-model-with-intercept\")\n"
   ]
  },
  {
   "cell_type": "code",
   "execution_count": null,
   "metadata": {
    "pycharm": {
     "name": "#%%\n"
    }
   },
   "outputs": [],
   "source": [
    "#Extract the B0, B1\n",
    "print(lr.params)\n",
    "b0=lr.params[0]\n",
    "b1=lr.params[1]\n",
    "\n",
    "#Plot the fitted line on training data\n",
    "plt.scatter(x_train, y_train)\n",
    "plt.plot(x_train, b0+ b1*x_train, 'r')\n",
    "plots_dict = {}\n",
    "plots_dict[\"train_data_fitting\"] =  plt\n",
    "mlf_run.log_plots(plots_dict)\n",
    "plt.show()"
   ]
  },
  {
   "cell_type": "code",
   "execution_count": 11,
   "metadata": {
    "pycharm": {
     "name": "#%%\n"
    }
   },
   "outputs": [
    {
     "data": {
      "image/png": "[encoded data removed]",
      "text/plain": [
       "<Figure size 432x288 with 1 Axes>"
      ]
     },
     "metadata": {
      "needs_background": "light"
     },
     "output_type": "display_data"
    }
   ],
   "source": [
    "#Plot the fitted line on test data\n",
    "\n",
    "x_test_with_intercept = sm.add_constant(x_test)\n",
    "y_test_fitted = lr.predict(x_test_with_intercept)\n",
    "\n",
    "\n",
    "plt.scatter(x_test, y_test)\n",
    "plt.plot(x_test, y_test_fitted, 'r')\n",
    "plots_dict = {}\n",
    "plots_dict[\"test_data_fitting\"] = plt\n",
    "mlf_run.log_plots(plots_dict)\n",
    "plt.show()\n"
   ]
  },
  {
   "cell_type": "code",
   "execution_count": null,
   "metadata": {},
   "outputs": [],
   "source": [
    "test_pred = lr.predict(x_test_with_intercept)\n",
    "\n",
    "metrics_dict = {}\n",
    "\n",
    "metrics_dict[\"mean_absolute_error\"] = mean_absolute_error(y_test, test_pred)\n",
    "metrics_dict[\"mean_squared_error\"] = mean_squared_error(y_test, test_pred)\n",
    "metrics_dict[\"r2_score\"] = r2_score(y_test, lr.predict(x_test_with_intercept))"
   ]
  },
  {
   "cell_type": "code",
   "execution_count": 12,
   "metadata": {},
   "outputs": [
    {
     "name": "stdout",
     "output_type": "stream",
     "text": [
      "[mlfoundry] 2022-07-24T20:13:26+0530 INFO Metrics logged successfully\n",
      "[mlfoundry] 2022-07-24T20:13:31+0530 INFO Parameters logged successfully\n",
      "[mlfoundry] 2022-07-24T20:13:31+0530 INFO Logging Dataset, this might take a while ...\n",
      "[mlfoundry] 2022-07-24T20:14:41+0530 INFO Dataset logged successfully\n",
      "To visualize the logged dataset, click on the link https://projectpro.truefoundry.com/mlfoundry/216/2a46f4f9c848408d8efafaa281657dbf/?tab=data-feature-metrics\n"
     ]
    }
   ],
   "source": [
    "mlf_run.log_metrics(metrics_dict,step = 2)\n",
    "\n",
    "params_dict = lr.params.to_dict()\n",
    "\n",
    "mlf_run.log_params(params_dict)\n",
    "mlf_run.log_dataset(\n",
    "    dataset_name = 'test_dataset',\n",
    "    features = x_test_with_intercept,\n",
    "    predictions = test_pred,\n",
    "    actuals = y_test,\n",
    ")"
   ]
  },
  {
   "cell_type": "code",
   "execution_count": 13,
   "metadata": {
    "pycharm": {
     "name": "#%%\n"
    }
   },
   "outputs": [
    {
     "data": {
      "image/png": "[encoded data removed]",
      "text/plain": [
       "<Figure size 432x288 with 1 Axes>"
      ]
     },
     "metadata": {
      "needs_background": "light"
     },
     "output_type": "display_data"
    }
   ],
   "source": [
    "#DIAGNOSTICS\n",
    "\n",
    "#CHECKLIST:\n",
    "# NON-LINEARITY\n",
    "# NON-CONSTANT VARIANCE\n",
    "# DEVIATIONS FROM NORMALITY\n",
    "# ERRORS NOT IID\n",
    "# OUTLIERS\n",
    "# MISSING PREDICTORS\n",
    "\n",
    "\n",
    "\n",
    "#Build predictions on training data\n",
    "predictions_y = lr.predict(x_train_with_intercept)\n",
    "\n",
    "#Find residuals\n",
    "r_i = (y_train - predictions_y)\n",
    "\n",
    "\n",
    "#Residuals vs. predictor in training data\n",
    "plt.title(' Residuals vs. Cost')\n",
    "plt.xlabel('Cost',fontsize=15)\n",
    "plt.scatter(x_train, r_i)\n",
    "plots_dict = {}\n",
    "plots_dict[\"residual_vs_cost\"] = plt\n",
    "mlf_run.log_plots(plots_dict)\n",
    "plt.show()"
   ]
  },
  {
   "cell_type": "code",
   "execution_count": 14,
   "metadata": {},
   "outputs": [
    {
     "data": {
      "image/png": "[encoded data removed]",
      "text/plain": [
       "<Figure size 432x288 with 1 Axes>"
      ]
     },
     "metadata": {
      "needs_background": "light"
     },
     "output_type": "display_data"
    }
   ],
   "source": [
    "#Absolute residuals against predictor\n",
    "abs_r_i = np.abs(y_train - predictions_y)\n",
    "plt.title('Absolute Residuals vs. Cost')\n",
    "plt.xlabel('Cost',fontsize=15)\n",
    "plt.scatter(x_train, abs_r_i)\n",
    "plots_dict = {}\n",
    "plots_dict[\"absolute_residual_vs_cost\"] = plt\n",
    "mlf_run.log_plots(plots_dict)\n",
    "plt.show()"
   ]
  },
  {
   "cell_type": "code",
   "execution_count": 15,
   "metadata": {
    "pycharm": {
     "name": "#%%\n"
    }
   },
   "outputs": [
    {
     "data": {
      "image/png": "[encoded data removed]",
      "text/plain": [
       "<Figure size 432x288 with 1 Axes>"
      ]
     },
     "metadata": {
      "needs_background": "light"
     },
     "output_type": "display_data"
    }
   ],
   "source": [
    "#Demo of how to deal with non-constant variance through transformations\n",
    "\n",
    "test_residuals=(y_test-y_test_fitted)\n",
    "len(y_test)\n",
    "len(y_test_fitted)\n",
    "len(test_residuals)\n",
    "\n",
    "#Residuals vs. predictor in test set\n",
    "plt.title('Test Residuals vs. Cost')\n",
    "plt.xlabel('Cost',fontsize=15)\n",
    "plt.scatter(x_test, test_residuals)\n",
    "plt.show()\n",
    "\n",
    "#Some evidence of non-constant variance\n"
   ]
  },
  {
   "cell_type": "code",
   "execution_count": 16,
   "metadata": {},
   "outputs": [
    {
     "data": {
      "image/png": "[encoded data removed]",
      "text/plain": [
       "<Figure size 432x288 with 1 Axes>"
      ]
     },
     "metadata": {
      "needs_background": "light"
     },
     "output_type": "display_data"
    }
   ],
   "source": [
    "#Normality plot\n",
    "scipy.stats.probplot(r_i,plot=plt)\n",
    "plots_dict = {}\n",
    "plots_dict[\"probability_plot\"] = plt\n",
    "mlf_run.log_plots(plots_dict)"
   ]
  },
  {
   "cell_type": "code",
   "execution_count": 17,
   "metadata": {},
   "outputs": [
    {
     "data": {
      "image/png": "[encoded data removed]",
      "text/plain": [
       "<Figure size 432x288 with 1 Axes>"
      ]
     },
     "metadata": {
      "needs_background": "light"
     },
     "output_type": "display_data"
    }
   ],
   "source": [
    "#Boxplot for outliers\n",
    "# plot\n",
    "plt.boxplot(r_i, boxprops=dict(color='red'))\n",
    "plt.title('Residual Boxplot');\n",
    "plots_dict = {}\n",
    "plots_dict[\"residual_box_plot\"] = plt\n",
    "mlf_run.log_plots(plots_dict)\n",
    "plt.show()"
   ]
  },
  {
   "cell_type": "code",
   "execution_count": 18,
   "metadata": {},
   "outputs": [
    {
     "name": "stderr",
     "output_type": "stream",
     "text": [
      "/home/rizwan/.cache/pypoetry/virtualenvs/mlfoundry-Fz61mUs8-py3.8/lib/python3.8/site-packages/seaborn/distributions.py:2557: FutureWarning: `distplot` is a deprecated function and will be removed in a future version. Please adapt your code to use either `displot` (a figure-level function with similar flexibility) or `histplot` (an axes-level function for histograms).\n",
      "  warnings.warn(msg, FutureWarning)\n"
     ]
    },
    {
     "data": {
      "image/png": "[encoded data removed]",
      "text/plain": [
       "<Figure size 432x288 with 1 Axes>"
      ]
     },
     "metadata": {
      "needs_background": "light"
     },
     "output_type": "display_data"
    }
   ],
   "source": [
    "#Tails might be a little heavy, but overall no clear reason to reject normality expectations\n",
    "# Evaluate normality through histogram of residuals\n",
    "# Plotting the histogram using the residual values\n",
    "fig = plt.figure()\n",
    "sns.distplot(r_i, bins = 15)\n",
    "plt.title('Error Terms', fontsize = 15)\n",
    "plt.xlabel('y_train - y_train_pred', fontsize = 15)\n",
    "plots_dict = {}\n",
    "plots_dict[\"error_terms\"] = plt\n",
    "mlf_run.log_plots(plots_dict)\n",
    "plt.show()"
   ]
  },
  {
   "cell_type": "code",
   "execution_count": 19,
   "metadata": {
    "pycharm": {
     "name": "#%%\n"
    }
   },
   "outputs": [
    {
     "data": {
      "image/png": "[encoded data removed]",
      "text/plain": [
       "<Figure size 432x288 with 1 Axes>"
      ]
     },
     "metadata": {
      "needs_background": "light"
     },
     "output_type": "display_data"
    }
   ],
   "source": [
    "#\n",
    "\n",
    "#Try sqrt\n",
    "sqrt_y=np.sqrt(y)\n",
    "plt.scatter(x, sqrt_y,color='red');\n",
    "\n",
    "#Try ln\n",
    "ln_y=np.log(y)\n",
    "plt.scatter(x, ln_y,color='blue');\n",
    "\n",
    "\n",
    "#Let's try a BC transformation\n",
    "\n",
    "#Box Cox procedure on all cost\n",
    "bc_y=list(stats.boxcox(y))\n",
    "bc_y=bc_y[0]\n",
    "plt.scatter(x, bc_y,color='orange');\n",
    "\n",
    "#Overall, most satisfied with the sqrt transformation"
   ]
  },
  {
   "cell_type": "code",
   "execution_count": 20,
   "metadata": {
    "pycharm": {
     "name": "#%%\n"
    }
   },
   "outputs": [
    {
     "data": {
      "text/html": [
       "<table class=\"simpletable\">\n",
       "<caption>OLS Regression Results</caption>\n",
       "<tr>\n",
       "  <th>Dep. Variable:</th>          <td>Score</td>      <th>  R-squared:         </th> <td>   0.895</td>\n",
       "</tr>\n",
       "<tr>\n",
       "  <th>Model:</th>                   <td>OLS</td>       <th>  Adj. R-squared:    </th> <td>   0.894</td>\n",
       "</tr>\n",
       "<tr>\n",
       "  <th>Method:</th>             <td>Least Squares</td>  <th>  F-statistic:       </th> <td>   1267.</td>\n",
       "</tr>\n",
       "<tr>\n",
       "  <th>Date:</th>             <td>Sun, 24 Jul 2022</td> <th>  Prob (F-statistic):</th> <td>9.72e-75</td>\n",
       "</tr>\n",
       "<tr>\n",
       "  <th>Time:</th>                 <td>20:15:47</td>     <th>  Log-Likelihood:    </th> <td> -17.200</td>\n",
       "</tr>\n",
       "<tr>\n",
       "  <th>No. Observations:</th>      <td>   151</td>      <th>  AIC:               </th> <td>   38.40</td>\n",
       "</tr>\n",
       "<tr>\n",
       "  <th>Df Residuals:</th>          <td>   149</td>      <th>  BIC:               </th> <td>   44.43</td>\n",
       "</tr>\n",
       "<tr>\n",
       "  <th>Df Model:</th>              <td>     1</td>      <th>                     </th>     <td> </td>   \n",
       "</tr>\n",
       "<tr>\n",
       "  <th>Covariance Type:</th>      <td>nonrobust</td>    <th>                     </th>     <td> </td>   \n",
       "</tr>\n",
       "</table>\n",
       "<table class=\"simpletable\">\n",
       "<tr>\n",
       "    <td></td>       <th>coef</th>     <th>std err</th>      <th>t</th>      <th>P>|t|</th>  <th>[0.025</th>    <th>0.975]</th>  \n",
       "</tr>\n",
       "<tr>\n",
       "  <th>const</th> <td>    1.9674</td> <td>    0.052</td> <td>   37.683</td> <td> 0.000</td> <td>    1.864</td> <td>    2.071</td>\n",
       "</tr>\n",
       "<tr>\n",
       "  <th>Cost</th>  <td>    0.0234</td> <td>    0.001</td> <td>   35.594</td> <td> 0.000</td> <td>    0.022</td> <td>    0.025</td>\n",
       "</tr>\n",
       "</table>\n",
       "<table class=\"simpletable\">\n",
       "<tr>\n",
       "  <th>Omnibus:</th>       <td> 1.648</td> <th>  Durbin-Watson:     </th> <td>   1.821</td>\n",
       "</tr>\n",
       "<tr>\n",
       "  <th>Prob(Omnibus):</th> <td> 0.439</td> <th>  Jarque-Bera (JB):  </th> <td>   1.360</td>\n",
       "</tr>\n",
       "<tr>\n",
       "  <th>Skew:</th>          <td> 0.032</td> <th>  Prob(JB):          </th> <td>   0.507</td>\n",
       "</tr>\n",
       "<tr>\n",
       "  <th>Kurtosis:</th>      <td> 2.539</td> <th>  Cond. No.          </th> <td>    186.</td>\n",
       "</tr>\n",
       "</table><br/><br/>Notes:<br/>[1] Standard Errors assume that the covariance matrix of the errors is correctly specified."
      ],
      "text/plain": [
       "<class 'statsmodels.iolib.summary.Summary'>\n",
       "\"\"\"\n",
       "                            OLS Regression Results                            \n",
       "==============================================================================\n",
       "Dep. Variable:                  Score   R-squared:                       0.895\n",
       "Model:                            OLS   Adj. R-squared:                  0.894\n",
       "Method:                 Least Squares   F-statistic:                     1267.\n",
       "Date:                Sun, 24 Jul 2022   Prob (F-statistic):           9.72e-75\n",
       "Time:                        20:15:47   Log-Likelihood:                -17.200\n",
       "No. Observations:                 151   AIC:                             38.40\n",
       "Df Residuals:                     149   BIC:                             44.43\n",
       "Df Model:                           1                                         \n",
       "Covariance Type:            nonrobust                                         \n",
       "==============================================================================\n",
       "                 coef    std err          t      P>|t|      [0.025      0.975]\n",
       "------------------------------------------------------------------------------\n",
       "const          1.9674      0.052     37.683      0.000       1.864       2.071\n",
       "Cost           0.0234      0.001     35.594      0.000       0.022       0.025\n",
       "==============================================================================\n",
       "Omnibus:                        1.648   Durbin-Watson:                   1.821\n",
       "Prob(Omnibus):                  0.439   Jarque-Bera (JB):                1.360\n",
       "Skew:                           0.032   Prob(JB):                        0.507\n",
       "Kurtosis:                       2.539   Cond. No.                         186.\n",
       "==============================================================================\n",
       "\n",
       "Notes:\n",
       "[1] Standard Errors assume that the covariance matrix of the errors is correctly specified.\n",
       "\"\"\""
      ]
     },
     "execution_count": 20,
     "metadata": {},
     "output_type": "execute_result"
    }
   ],
   "source": [
    "#Run regression on this set\n",
    "\n",
    "x_train, x_test, y_train, y_test = train_test_split(x, sqrt_y, train_size = 0.75,\n",
    "                                                    test_size = 0.25, random_state = 100)\n",
    "\n",
    "\n",
    "#force intercept term\n",
    "x_train_with_intercept = sm.add_constant(x_train)\n",
    "lr = sm.OLS(y_train, x_train_with_intercept).fit()\n",
    "lr.summary()\n"
   ]
  },
  {
   "cell_type": "code",
   "execution_count": 21,
   "metadata": {},
   "outputs": [
    {
     "name": "stdout",
     "output_type": "stream",
     "text": [
      "Link to the dashboard for the run: https://projectpro.truefoundry.com/mlfoundry/216/93ee8c41c79e40f6a7fdbd9e198b585c/\n",
      "s3://tfy-ctl-euwe1-production-mlfoundry-server/216/93ee8c41c79e40f6a7fdbd9e198b585c/artifacts\n",
      "[mlfoundry] 2022-07-24T20:16:20+0530 INFO Run 'projectpro/tfy-akash/linear-regression/reg-model-sqrt-y' has started.\n",
      "[mlfoundry] 2022-07-24T20:16:29+0530 INFO Shutting down background jobs and syncing data for run 'projectpro/tfy-akash/linear-regression/reg-model-with-intercept', please don't kill this process...\n",
      "[mlfoundry] 2022-07-24T20:16:34+0530 INFO Finished syncing data for run 'projectpro/tfy-akash/linear-regression/reg-model-with-intercept'. Thank you for waiting!\n",
      "Link to the dashboard for the run: https://projectpro.truefoundry.com/mlfoundry/216/2a46f4f9c848408d8efafaa281657dbf/\n"
     ]
    }
   ],
   "source": [
    "mlf_run = mlf_api.create_run(project_name='linear-regression', run_name=\"reg-model-sqrt-y\")"
   ]
  },
  {
   "cell_type": "code",
   "execution_count": 22,
   "metadata": {
    "pycharm": {
     "name": "#%%\n"
    }
   },
   "outputs": [
    {
     "name": "stdout",
     "output_type": "stream",
     "text": [
      "const    1.967367\n",
      "Cost     0.023433\n",
      "dtype: float64\n"
     ]
    },
    {
     "data": {
      "image/png": "[encoded data removed]",
      "text/plain": [
       "<Figure size 432x288 with 1 Axes>"
      ]
     },
     "metadata": {
      "needs_background": "light"
     },
     "output_type": "display_data"
    }
   ],
   "source": [
    "#Extract the B0, B1\n",
    "print(lr.params)\n",
    "b0=lr.params[0]\n",
    "b1=lr.params[1]\n",
    "\n",
    "#Plot the fitted line on training data\n",
    "plt.scatter(x_train, y_train)\n",
    "plt.plot(x_train, b0+ b1*x_train, 'r')\n",
    "plots_dict = {}\n",
    "plots_dict[\"train_data_fitting\"] =  plt\n",
    "mlf_run.log_plots(plots_dict)\n",
    "plt.show()"
   ]
  },
  {
   "cell_type": "code",
   "execution_count": 23,
   "metadata": {
    "pycharm": {
     "name": "#%%\n"
    }
   },
   "outputs": [
    {
     "data": {
      "image/png": "[encoded data removed]",
      "text/plain": [
       "<Figure size 432x288 with 1 Axes>"
      ]
     },
     "metadata": {
      "needs_background": "light"
     },
     "output_type": "display_data"
    },
    {
     "data": {
      "text/plain": [
       "51"
      ]
     },
     "execution_count": 23,
     "metadata": {},
     "output_type": "execute_result"
    },
    {
     "data": {
      "text/plain": [
       "<Figure size 432x288 with 0 Axes>"
      ]
     },
     "metadata": {},
     "output_type": "display_data"
    }
   ],
   "source": [
    "#Plot the fitted line on test data\n",
    "\n",
    "x_test_with_intercept = sm.add_constant(x_test)\n",
    "y_test_fitted = lr.predict(x_test_with_intercept)\n",
    "\n",
    "\n",
    "plt.scatter(x_test, y_test)\n",
    "plt.plot(x_test, y_test_fitted, 'r')\n",
    "plt.show()\n",
    "plots_dict = {}\n",
    "plots_dict[\"test_data_fitting\"] =  plt\n",
    "mlf_run.log_plots(plots_dict)\n",
    "#Evaluate variance\n",
    "#Diagnostics\n",
    "test_residuals=(y_test-y_test_fitted)\n",
    "len(y_test)\n",
    "len(y_test_fitted)\n",
    "len(test_residuals)"
   ]
  },
  {
   "cell_type": "code",
   "execution_count": 24,
   "metadata": {},
   "outputs": [
    {
     "data": {
      "image/png": "[encoded data removed]",
      "text/plain": [
       "<Figure size 432x288 with 1 Axes>"
      ]
     },
     "metadata": {
      "needs_background": "light"
     },
     "output_type": "display_data"
    },
    {
     "data": {
      "text/plain": [
       "<Figure size 432x288 with 0 Axes>"
      ]
     },
     "metadata": {},
     "output_type": "display_data"
    }
   ],
   "source": [
    "#Residuals vs. predictor\n",
    "plt.title('Residuals vs. Cost')\n",
    "plt.xlabel('Cost',fontsize=15)\n",
    "plt.scatter(x_test, test_residuals)\n",
    "plt.show()\n",
    "plots_dict = {}\n",
    "plots_dict[\"residual_vs_cost\"] =  plt\n",
    "mlf_run.log_plots(plots_dict)\n",
    "#Non-constant variance reduced, but we also reduced our coefficient of determination"
   ]
  },
  {
   "cell_type": "code",
   "execution_count": 25,
   "metadata": {},
   "outputs": [
    {
     "name": "stdout",
     "output_type": "stream",
     "text": [
      "[mlfoundry] 2022-07-24T20:17:17+0530 INFO Metrics logged successfully\n",
      "[mlfoundry] 2022-07-24T20:17:21+0530 INFO Parameters logged successfully\n",
      "[mlfoundry] 2022-07-24T20:17:21+0530 INFO Logging Dataset, this might take a while ...\n",
      "[mlfoundry] 2022-07-24T20:18:31+0530 INFO Dataset logged successfully\n",
      "To visualize the logged dataset, click on the link https://projectpro.truefoundry.com/mlfoundry/216/93ee8c41c79e40f6a7fdbd9e198b585c/?tab=data-feature-metrics\n"
     ]
    }
   ],
   "source": [
    "test_pred = lr.predict(x_test_with_intercept)\n",
    "\n",
    "metrics_dict = {}\n",
    "\n",
    "metrics_dict[\"mean_absolute_error\"] = mean_absolute_error(y_test, test_pred)\n",
    "metrics_dict[\"mean_squared_error\"] = mean_squared_error(y_test, test_pred)\n",
    "metrics_dict[\"r2_score\"] = r2_score(y_test, lr.predict(x_test_with_intercept))\n",
    "\n",
    "params_dict = lr.params.to_dict()\n",
    "\n",
    "mlf_run.log_metrics(metrics_dict)\n",
    "mlf_run.log_params(params_dict)\n",
    "mlf_run.log_dataset(\n",
    "    dataset_name = 'test_dataset',\n",
    "    features = x_test_with_intercept,\n",
    "    predictions = test_pred,\n",
    "    actuals = y_test,\n",
    ")"
   ]
  },
  {
   "cell_type": "code",
   "execution_count": null,
   "metadata": {},
   "outputs": [],
   "source": []
  },
  {
   "cell_type": "code",
   "execution_count": null,
   "metadata": {},
   "outputs": [],
   "source": []
  }
 ],
 "metadata": {
  "kernelspec": {
   "display_name": "Python 3 (ipykernel)",
   "language": "python",
   "name": "python3"
  },
  "language_info": {
   "codemirror_mode": {
    "name": "ipython",
    "version": 3
   },
   "file_extension": ".py",
   "mimetype": "text/x-python",
   "name": "python",
   "nbconvert_exporter": "python",
   "pygments_lexer": "ipython3",
   "version": "3.9.12"
  },
  "vscode": {
   "interpreter": {
    "hash": "9ef903084c5c52a4a91f9ef5ca044f687b322219c655fbb3a0754c14ca2b62b4"
   }
  }
 },
 "nbformat": 4,
 "nbformat_minor": 1
}
